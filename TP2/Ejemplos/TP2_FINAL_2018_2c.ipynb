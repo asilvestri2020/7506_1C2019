{
 "cells": [
  {
   "cell_type": "markdown",
   "metadata": {},
   "source": [
    "### =======================================================================\n",
    "### IMPORTACIÓN DE DATOS.\n",
    "### ======================================================================="
   ]
  },
  {
   "cell_type": "code",
   "execution_count": 1,
   "metadata": {},
   "outputs": [
    {
     "name": "stderr",
     "output_type": "stream",
     "text": [
      "/usr/local/lib/python2.7/dist-packages/sklearn/cross_validation.py:41: DeprecationWarning: This module was deprecated in version 0.18 in favor of the model_selection module into which all the refactored classes and functions are moved. Also note that the interface of the new CV iterators are different from that of this module. This module will be removed in 0.20.\n",
      "  \"This module will be removed in 0.20.\", DeprecationWarning)\n"
     ]
    }
   ],
   "source": [
    "## IMPORTACIÓN GENERAL DE LIBRERIAS Y VISUALIZACIÓN DE DATOS (matplotlib y seaborn)\n",
    "import pandas as pd\n",
    "import numpy as np\n",
    "import matplotlib.pyplot as plt\n",
    "import seaborn as sns\n",
    "import datetime as DT\n",
    "import warnings\n",
    "from sklearn.ensemble import RandomForestClassifier\n",
    "from sklearn import metrics\n",
    "from sklearn.cross_validation import train_test_split\n",
    "import xgboost as xgb\n",
    "\n",
    "%matplotlib inline\n",
    "warnings.filterwarnings('ignore')\n",
    "plt.style.use('default') \n",
    "sns.set(style=\"whitegrid\") \n",
    "plt.rcParams['figure.figsize'] = (15, 10)\n",
    "pd.set_option('display.max_columns', 1000)\n",
    "np.set_printoptions(threshold=np.nan)"
   ]
  },
  {
   "cell_type": "code",
   "execution_count": 2,
   "metadata": {},
   "outputs": [],
   "source": [
    "## OBTENEMOS TODA LA INFORMACIÓN DE LOS DIFERENTES EVENTOS.\n",
    "eventos = pd.read_csv('events_up_to_01062018.csv', encoding = 'utf-8')"
   ]
  },
  {
   "cell_type": "code",
   "execution_count": null,
   "metadata": {},
   "outputs": [],
   "source": []
  },
  {
   "cell_type": "markdown",
   "metadata": {},
   "source": [
    "### =======================================================================\n",
    "### ARMADO DE FEATURES.\n",
    "### =======================================================================\\"
   ]
  },
  {
   "cell_type": "code",
   "execution_count": 3,
   "metadata": {},
   "outputs": [],
   "source": [
    "## PASAMOS LAS COLUMNAS QUE TIENEN UNA CANTIDAD DE VALORES LIMITADA A UN TIPO CATEGORY\n",
    "eventos['event'] = eventos['event'].astype('category')\n",
    "eventos['search_engine'] = eventos['search_engine'].astype('category')\n",
    "eventos['channel'] = eventos['channel'].astype('category')\n",
    "eventos['new_vs_returning'] = eventos['new_vs_returning'].astype('category')\n",
    "eventos['device_type'] = eventos['device_type'].astype('category')\n",
    "eventos['color'] = eventos['color'].astype('category')\n",
    "eventos['region'] = eventos['region'].astype('category')\n",
    "#eventos['city'] = eventos['city'].astype('category')\n",
    "eventos['browser_version'] = eventos['browser_version'].astype('category')\n",
    "eventos['screen_resolution'] = eventos['screen_resolution'].astype('category')\n",
    "eventos['timestamp'] = pd.to_datetime(eventos['timestamp'], infer_datetime_format=True)"
   ]
  },
  {
   "cell_type": "code",
   "execution_count": 4,
   "metadata": {},
   "outputs": [],
   "source": [
    "## ORDENAMOS LOS DATOS ṔOR PERSONAS EN PRIMER LUGAR Y TIEMPO EN SEGUNDO.\n",
    "eventos.sort_values(['person', 'timestamp'], ascending=[True, True], inplace=True)"
   ]
  },
  {
   "cell_type": "code",
   "execution_count": 5,
   "metadata": {},
   "outputs": [],
   "source": [
    "## DIFERENCIAMOS EN TRES COLUMNAS DIFERENTES EL DIA, MES Y AÑO.\n",
    "eventos['mes'] = eventos['timestamp'].dt.month\n",
    "eventos['dia'] = eventos['timestamp'].dt.day\n",
    "eventos['hora'] = eventos['timestamp'].dt.hour"
   ]
  },
  {
   "cell_type": "code",
   "execution_count": 6,
   "metadata": {},
   "outputs": [],
   "source": [
    "## ARMAMOS UNA COLUMNA PARA EL DÍA DE LA SEMANA COMO NOMBRE.\n",
    "eventos['diasemana'] = eventos['timestamp'].dt.weekday_name\n",
    "## PONEMOS LOS NOMBRES DE MANERA MÁS PROLIJA PARA LOS GRÁFICOS.\n",
    "eventos.loc[eventos.diasemana.str.contains('Monday', na=False), 'diasemana'] = 'lunes'\n",
    "eventos.loc[eventos.diasemana.str.contains('Tuesday', na=False), 'diasemana'] = 'martes'\n",
    "eventos.loc[eventos.diasemana.str.contains('Wednesday', na=False), 'diasemana'] = 'miercoles'\n",
    "eventos.loc[eventos.diasemana.str.contains('Thursday', na=False), 'diasemana'] = 'jueves'\n",
    "eventos.loc[eventos.diasemana.str.contains('Friday', na=False), 'diasemana'] = 'viernes'\n",
    "eventos.loc[eventos.diasemana.str.contains('Saturday', na=False), 'diasemana'] = 'sabado'\n",
    "eventos.loc[eventos.diasemana.str.contains('Sunday', na=False), 'diasemana'] = 'domingo'"
   ]
  },
  {
   "cell_type": "code",
   "execution_count": 7,
   "metadata": {},
   "outputs": [],
   "source": [
    "# AGREGAMOS UNA COLUMNA PARA INDICAR SI EL EVENTO OCURRIO UN FIN DE SEMANA\n",
    "eventos['evento_en_finde'] = 0\n",
    "eventos.loc[(eventos.diasemana.str.contains('DOM', na=False) | eventos.diasemana.str.contains('SAB', na=False)), 'evento_en_finde'] = 1"
   ]
  },
  {
   "cell_type": "code",
   "execution_count": 8,
   "metadata": {},
   "outputs": [],
   "source": [
    "# DEFINIMOS EL MES COMO NOMBRE PARA FACILITAR LAS COLUMNAS\n",
    "eventos['mesMayus'] = ''\n",
    "eventos.loc[eventos.mes == 1, 'mesMayus'] = 'enero'\n",
    "eventos.loc[eventos.mes == 2, 'mesMayus'] = 'febrero'\n",
    "eventos.loc[eventos.mes == 3, 'mesMayus'] = 'marzo'\n",
    "eventos.loc[eventos.mes == 4, 'mesMayus'] = 'abril'\n",
    "eventos.loc[eventos.mes == 5, 'mesMayus'] = 'mayo'\n",
    "eventos.loc[eventos.mes == 6, 'mesMayus'] = 'junio'\n",
    "eventos.loc[eventos.mes == 7, 'mesMayus'] = 'julio'\n",
    "eventos.loc[eventos.mes == 8, 'mesMayus'] = 'agosto'\n",
    "eventos.loc[eventos.mes == 9, 'mesMayus'] = 'septiembre'\n",
    "eventos.loc[eventos.mes == 10, 'mesMayus'] = 'octubre'\n",
    "eventos.loc[eventos.mes == 11, 'mesMayus'] = 'noviembre'\n",
    "eventos.loc[eventos.mes == 12, 'mesMayus'] = 'diciembre'"
   ]
  },
  {
   "cell_type": "code",
   "execution_count": 9,
   "metadata": {},
   "outputs": [],
   "source": [
    "# ARMAMOS UNA LÓGICA PARA SEGMENTAR LAS FRANJAS HORARIAS.\n",
    "# MADRUGADA de 00 a 06\n",
    "eventos['hora_madrugada'] = 0\n",
    "eventos.loc[((eventos.hora > -1) & (eventos.hora < 7)), 'hora_madrugada'] = 1\n",
    "# MAÑANA de 07 a 11\n",
    "eventos['hora_maniana'] = 0\n",
    "eventos.loc[((eventos.hora > 6) & (eventos.hora < 12)), 'hora_maniana'] = 1\n",
    "# ALMUERZO de 12 a 13\n",
    "eventos['hora_almuerzo'] = 0\n",
    "eventos.loc[((eventos.hora > 11) & (eventos.hora < 14)), 'hora_almuerzo'] = 1\n",
    "# TARDE de 14 a 18\n",
    "eventos['hora_tarde'] = 0\n",
    "eventos.loc[((eventos.hora > 13) & (eventos.hora < 19)), 'hora_tarde'] = 1\n",
    "# NOCHE de 19 a 23\n",
    "eventos['hora_noche'] = 0\n",
    "eventos.loc[((eventos.hora > 18) & (eventos.hora < 24)), 'hora_noche'] = 1\n",
    "# TRANSFORMAMOS EN CATEGÓRICAS EL DÍA DE LA SEMANA Y EL MES.\n",
    "eventos['diasemana'] = eventos['diasemana'].astype('category')\n",
    "eventos['mesMayus'] = eventos['mesMayus'].astype('category')"
   ]
  },
  {
   "cell_type": "code",
   "execution_count": 10,
   "metadata": {},
   "outputs": [],
   "source": [
    "## CREAMOS UNA COLUMNA CON CONTENIDO VACIO.\n",
    "eventos['sistema'] = 'OtrosSistemas'\n",
    "## SEGÚN QUE FAMILIA DE SO POSEA ACTUALIZAMOS NUESTRA NUEVA COLUMNA.\n",
    "eventos.loc[eventos.operating_system_version.str.contains('Mac', na=False), 'sistema'] = 'MacOS'\n",
    "eventos.loc[eventos.operating_system_version.str.contains('iOS', na=False), 'sistema'] = 'iOS'\n",
    "eventos.loc[eventos.operating_system_version.str.contains('Chrome', na=False), 'sistema'] = 'Chrome'\n",
    "eventos.loc[eventos.operating_system_version.str.contains('Tizen', na=False), 'sistema'] = 'Tizen'\n",
    "eventos.loc[eventos.operating_system_version.str.contains('Android', na=False), 'sistema'] = 'Android'\n",
    "eventos.loc[eventos.operating_system_version.str.contains('Windows Phone', na=False), 'sistema'] = 'Windows Phone'\n",
    "eventos.loc[eventos.operating_system_version.str.contains('Ubuntu', na=False), 'sistema'] = 'Ubuntu'\n",
    "eventos.loc[eventos.operating_system_version.str.contains('Linux', na=False), 'sistema'] = 'Linux'\n",
    "## CASO PARTICULAR, WINDOWS Y WINDOWS PHONE COMPARTEN LA PALABRA.\n",
    "eventos.loc[(eventos.operating_system_version.str.contains('Windows', na=False) & ~eventos.operating_system_version.str.contains('Phone', na=False)), 'sistema'] = 'Windows'\n",
    "## AHORA SI PASAMOS LA COLUMNA DE SISTEMAS OPERATIVOS A UN ENUMERATIVO.\n",
    "eventos['operating_system_version'] = eventos['operating_system_version'].astype('category')\n",
    "eventos['sistema'] = eventos['sistema'].astype('category')"
   ]
  },
  {
   "cell_type": "code",
   "execution_count": 11,
   "metadata": {},
   "outputs": [],
   "source": [
    "## AGREGAMOS UNA COLUMNA PARA DIFERENCIAR LAS MARCAS.\n",
    "eventos['marca'] = 'OtrasMarcas'\n",
    "## VAMOS OBTENIENDO LAS MARCAS SEGÚN LAS PALABRAS CLAVES QUE LAS CONFORMAN.\n",
    "eventos.loc[eventos.model.str.contains('Samsung', na=False), 'marca'] = 'Samsung'\n",
    "eventos.loc[eventos.model.str.contains('Motorola', na=False), 'marca'] = 'Motorola'\n",
    "eventos.loc[eventos.model.str.contains('Sony', na=False), 'marca'] = 'Sony'\n",
    "eventos.loc[eventos.model.str.contains('LG ', na=False), 'marca'] = 'LG'\n",
    "eventos.loc[eventos.model.str.contains('iPad', na=False), 'marca'] = 'iPad'\n",
    "eventos.loc[eventos.model.str.contains('Asus', na=False), 'marca'] = 'Asus'\n",
    "eventos.loc[eventos.model.str.contains('iPhone', na=False), 'marca'] = 'iPhone'\n",
    "eventos.loc[eventos.model.str.contains('Quantum', na=False), 'marca'] = 'Quantum'\n",
    "eventos.loc[eventos.model.str.contains('Lenovo', na=False), 'marca'] = 'Lenovo'\n",
    "## AHORA SI PASAMOS LA COLUMNA DE MODELOS A UN ENUMERATIVO.\n",
    "eventos['model'] = eventos['model'].astype('category')\n",
    "eventos['marca'] = eventos['marca'].astype('category')"
   ]
  },
  {
   "cell_type": "code",
   "execution_count": 12,
   "metadata": {},
   "outputs": [
    {
     "data": {
      "text/plain": [
       "OtrosPaises      2137877\n",
       "Brazil            197699\n",
       "Unknown             5273\n",
       "United States        634\n",
       "Argentina            123\n",
       "Canada                75\n",
       "Name: pais, dtype: int64"
      ]
     },
     "execution_count": 12,
     "metadata": {},
     "output_type": "execute_result"
    }
   ],
   "source": [
    "## AGREGAMOS UNA COLUMNA PARA DIFERENCIAR BRASIL DEL RESTO.\n",
    "# eventos['pais'] = 'OtrosPaises'\n",
    "# eventos.loc[eventos.country.str.contains('Brazil', na=False), 'pais'] = 'Brasil'\n",
    "# ## AHORA SI PASAMOS LA COLUMNA DE PAISES A UN ENUMERATIVO.\n",
    "# eventos['pais'] = eventos['pais'].astype('category')\n",
    "# eventos['country'] = eventos['country'].astype('category')\n",
    "eventos['pais'] = 'OtrosPaises'\n",
    "paisesMasPopulares = eventos['country'].value_counts().to_frame().reset_index().head()['index']\n",
    "eventos.loc[eventos['country'].isin(paisesMasPopulares), 'pais'] = eventos['country']\n",
    "eventos['pais'] = eventos['pais'].astype('category')\n",
    "eventos['pais'].value_counts()"
   ]
  },
  {
   "cell_type": "code",
   "execution_count": 13,
   "metadata": {},
   "outputs": [],
   "source": [
    "## COLUMNA DE CIUDAD\n",
    "eventos['ciudad'] = 'OtraCiudad'\n",
    "ciudadesMasPopulares = eventos['city'].value_counts().to_frame().reset_index().head(200)['index']\n",
    "eventos.loc[eventos['city'].isin(ciudadesMasPopulares), 'ciudad'] = eventos['city']\n",
    "eventos['ciudad'] = eventos['ciudad'].astype('category')"
   ]
  },
  {
   "cell_type": "code",
   "execution_count": 14,
   "metadata": {},
   "outputs": [],
   "source": [
    "## COLUMNA DE NAVEGADOR\n",
    "eventos['navegador'] = 'OtroNavegador'\n",
    "navegadoresMasPopulares = eventos['browser_version'].value_counts().to_frame().reset_index().head(50)['index']\n",
    "eventos.loc[eventos['browser_version'].isin(navegadoresMasPopulares), 'navegador'] = eventos['browser_version']\n",
    "eventos['navegador'] = eventos['navegador'].astype('category')"
   ]
  },
  {
   "cell_type": "code",
   "execution_count": 15,
   "metadata": {},
   "outputs": [],
   "source": [
    "eventos['Capacidad_en_GB'] = 0\n",
    "eventos.loc[eventos.storage.str.contains('16GB', na=False), 'Capacidad_en_GB'] = 16\n",
    "eventos.loc[eventos.storage.str.contains('32GB', na=False), 'Capacidad_en_GB'] = 32\n",
    "eventos.loc[eventos.storage.str.contains('64GB', na=False), 'Capacidad_en_GB'] = 64\n",
    "eventos.loc[eventos.storage.str.contains('128GB', na=False), 'Capacidad_en_GB'] = 128\n",
    "eventos.loc[eventos.storage.str.contains('8GB', na=False), 'Capacidad_en_GB'] = 8\n",
    "eventos.loc[eventos.storage.str.contains('256GB', na=False), 'Capacidad_en_GB'] = 256\n",
    "eventos.loc[eventos.storage.str.contains('4GB', na=False), 'Capacidad_en_GB'] = 4\n",
    "eventos.loc[eventos.storage.str.contains('512MB', na=False), 'Capacidad_en_GB'] = 0.512\n",
    "eventos['storage'] = eventos['storage'].astype('category')"
   ]
  },
  {
   "cell_type": "code",
   "execution_count": 16,
   "metadata": {},
   "outputs": [],
   "source": [
    "## CREAMOS UNA COLUMNA PARA DIFERENCIAR LA CONDICION.\n",
    "eventos['Puntaje'] = 0\n",
    "## ABSTRAEMOS SOLO AQUELLOS QUE TIENEN UNA CONDICIÓN ASOCIADA Y LO PASAMOS A NUESTRO IDIOMA.\n",
    "eventos.loc[eventos.condition.str.contains('Excelente', na=False), 'Puntaje'] = 4\n",
    "eventos.loc[eventos.condition.str.contains('Muito Bom', na=False), 'Puntaje'] = 3\n",
    "eventos.loc[eventos.condition.str.contains('Novo', na=False), 'Puntaje'] = 5\n",
    "## SOLO NOS QUEDAN DOS TIPOS DE EVENTOS QUE SON REFERENCIA A LOS 'BUENOS'\n",
    "eventos.loc[eventos.Puntaje == 0, 'Puntaje'] = 2\n",
    "eventos['condition'] = eventos['condition'].astype('category')"
   ]
  },
  {
   "cell_type": "code",
   "execution_count": 17,
   "metadata": {},
   "outputs": [],
   "source": [
    "# COMO TENEMOS UN EVENTO CON EL MISMO NOMBRE SE GENERA CONFLICTOS, \n",
    "# ERGO LE MODIFICAMOS EL NOMBRE PARA NO TENER DOS COLUMNAS CON = NOMBRE Y DISTINTO TIPO.\n",
    "eventos.rename(columns={'staticpage': 'Genstatpage'}, inplace=True)\n",
    "aux = eventos\n"
   ]
  },
  {
   "cell_type": "code",
   "execution_count": 18,
   "metadata": {},
   "outputs": [],
   "source": [
    "eventos = aux"
   ]
  },
  {
   "cell_type": "code",
   "execution_count": 19,
   "metadata": {
    "scrolled": true
   },
   "outputs": [],
   "source": [
    "# COLUMNAS DONDE POR CADA REGISTRO SABEMOS QUE TENEMOS UN VALOR (SIEMPRE PRESENTES)\n",
    "##################### DIA DE SEMANA\n",
    "#dummies = pd.get_dummies(eventos['diasemana'], drop_first=False)\n",
    "#eventos = pd.concat([eventos, dummies], axis=1)\n",
    "##################### MES\n",
    "dummies = pd.get_dummies(eventos['mesMayus'], drop_first=False)\n",
    "eventos = pd.concat([eventos, dummies], axis=1)\n",
    "##################### TIPOS DE EVENTOS\n",
    "dummies = pd.get_dummies(eventos['event'], drop_first=False)\n",
    "eventos = pd.concat([eventos, dummies], axis=1)\n",
    "##################### ALMACENAMIENTO\n",
    "dummies = pd.get_dummies(eventos['storage'], drop_first=False)\n",
    "eventos = pd.concat([eventos, dummies], axis=1)\n",
    "##################### CONDICION DEL DISPOSITIVO\n",
    "dummies = pd.get_dummies(eventos['condition'], drop_first=False)\n",
    "eventos = pd.concat([eventos, dummies], axis=1)\n",
    "##################### USUARIO NUEVO O NO\n",
    "dummies = pd.get_dummies(eventos['new_vs_returning'], drop_first=False)\n",
    "eventos = pd.concat([eventos, dummies], axis=1)\n",
    "##################### SISTEMA OPERATIVO\n",
    "dummies = pd.get_dummies(eventos['sistema'], drop_first=False)\n",
    "eventos = pd.concat([eventos, dummies], axis=1)\n",
    "##################### MARCA\n",
    "dummies = pd.get_dummies(eventos['marca'], drop_first=False)\n",
    "eventos = pd.concat([eventos, dummies], axis=1)\n",
    "##################### PAIS DE EVENTO\n",
    "dummies = pd.get_dummies(eventos['pais'], drop_first=False)\n",
    "eventos = pd.concat([eventos, dummies], axis=1)\n",
    "eventos.rename(columns={'Unknown': 'Unknown_country'}, inplace=True)\n",
    "##################### TIPO DE DISPOSITIVO\n",
    "dummies = pd.get_dummies(eventos['device_type'], drop_first=False)\n",
    "eventos = pd.concat([eventos, dummies], axis=1)\n",
    "eventos.rename(columns={'Unknown': 'Unknown_device_type'}, inplace=True)\n",
    "##################### CIUDAD\n",
    "#dummies = pd.get_dummies(eventos['ciudad'], drop_first=False)\n",
    "#eventos = pd.concat([eventos, dummies], axis=1)\n",
    "#eventos.drop(['Unknown'], axis=1)\n",
    "##################### NAVEGADOR\n",
    "dummies = pd.get_dummies(eventos['navegador'], drop_first=False)\n",
    "eventos = pd.concat([eventos, dummies], axis=1)\n",
    "#####################\n"
   ]
  },
  {
   "cell_type": "code",
   "execution_count": 20,
   "metadata": {},
   "outputs": [],
   "source": [
    "eventos.rename(columns={'generic listing': 'geneList', 'staticpage': 'statpage', 'Unknown': 'Unknown_city', 'staticpage': 'SP'}, inplace=True)"
   ]
  },
  {
   "cell_type": "code",
   "execution_count": 21,
   "metadata": {},
   "outputs": [],
   "source": [
    "columnas_relevantes = list(eventos.select_dtypes(include=['int','float64','uint8']).columns)\n",
    "\n",
    "columnas_relevantes.remove('sku')\n",
    "columnas_relevantes.append('person')\n",
    "eventos_filtrados = eventos.loc[:, eventos.columns.isin(columnas_relevantes)]\n",
    "columnas_relevantes.remove('person')\n",
    "\n",
    "eventos_por_usuario = eventos_filtrados.groupby('person')[columnas_relevantes].sum().astype(np.float16).reset_index()\n"
   ]
  },
  {
   "cell_type": "code",
   "execution_count": null,
   "metadata": {},
   "outputs": [],
   "source": [
    "eventos_por_usuario.head()"
   ]
  },
  {
   "cell_type": "code",
   "execution_count": null,
   "metadata": {},
   "outputs": [],
   "source": [
    "columnas_relevantes"
   ]
  },
  {
   "cell_type": "markdown",
   "metadata": {},
   "source": [
    "### =======================================================================\n",
    "### ENTRENAMIENTO Y PREDICCIÓN.\n",
    "### ======================================================================="
   ]
  },
  {
   "cell_type": "code",
   "execution_count": null,
   "metadata": {},
   "outputs": [],
   "source": [
    "## OBTENEMOS TODA LA INFORMACIÓN DEL SET DE ENTRENAMIENTO.\n",
    "y_train = pd.read_csv('labels_training_set.csv', encoding = 'utf-8')\n",
    "test_users = pd.read_csv('trocafone_kaggle_test.csv', encoding = 'utf-8')"
   ]
  },
  {
   "cell_type": "code",
   "execution_count": null,
   "metadata": {},
   "outputs": [],
   "source": [
    "## Filtramos los eventos para los usuarios que se encuentran en el set de entrenamiento\n",
    "train = pd.merge(eventos_por_usuario, y_train, on='person', how='inner')\n",
    "test = pd.merge(eventos_por_usuario, test_users)"
   ]
  },
  {
   "cell_type": "code",
   "execution_count": null,
   "metadata": {},
   "outputs": [],
   "source": [
    "features = list(columnas_relevantes)\n",
    "x = train[features]\n",
    "y = train['label']"
   ]
  },
  {
   "cell_type": "code",
   "execution_count": null,
   "metadata": {},
   "outputs": [],
   "source": [
    "xtrain, xtest, ytrain, ytest = train_test_split(x, y, random_state = 1)"
   ]
  },
  {
   "cell_type": "markdown",
   "metadata": {},
   "source": [
    "### =======================================================================\n",
    "### PARAMETER TUNING\n",
    "### ======================================================================="
   ]
  },
  {
   "cell_type": "code",
   "execution_count": null,
   "metadata": {},
   "outputs": [],
   "source": [
    "#data = pd.DataFrame(columns=['n_estimator', 'learning_rate', 'prediccion'])\n",
    "#for estimators in range(100, 300, 5):\n",
    "#     for i in range(1, 11, 1):\n",
    "#         learning_rate = i / 100.0\n",
    "#         xgboost = xgb.XGBClassifier(n_estimators=estimators, learning_rate=learning_rate)\n",
    "#         xgboost.fit(xtrain, ytrain, eval_metric='auc')\n",
    "#         y_pred_rf = xgboost.predict_proba(xtest)[:,1]\n",
    "#         df = pd.DataFrame({'n_estimator': [estimators], 'learning_rate': [learning_rate],'prediccion': [metrics.roc_auc_score(ytest, y_pred_rf)]})\n",
    "#         data = pd.concat([data,df])\n",
    "        "
   ]
  },
  {
   "cell_type": "code",
   "execution_count": null,
   "metadata": {},
   "outputs": [],
   "source": [
    "# data0 = pd.DataFrame(columns=['depth', 'prediccion'])\n",
    "# for depth in range(2, 15):\n",
    "#     xgboost = xgb.XGBClassifier(n_estimators=200, learning_rate=0.05, max_depth=depth)\n",
    "#     xgboost.fit(xtrain, ytrain, eval_metric='auc')\n",
    "#     y_pred_rf = xgboost.predict_proba(xtest)[:,1]\n",
    "#     df = pd.DataFrame({'depth': [depth],'prediccion': [metrics.roc_auc_score(ytest, y_pred_rf)]})\n",
    "#     data0 = pd.concat([data,df])\n",
    "    "
   ]
  },
  {
   "cell_type": "code",
   "execution_count": null,
   "metadata": {},
   "outputs": [],
   "source": [
    "# sns.set(style=\"darkgrid\")\n",
    "\n",
    "# # Tamaño para hojas A4.\n",
    "# fig, ax = plt.subplots()\n",
    "# fig.set_size_inches(11.7, 8.27)\n",
    "\n",
    "# data1 = data[data['learning_rate'] == 0.01]\n",
    "# data2 = data[data['learning_rate'] == 0.03]\n",
    "# data3 = data[data['learning_rate'] == 0.05]\n",
    "# data4 = data[data['learning_rate'] == 0.07]\n",
    "# data5 = data[data['learning_rate'] == 0.09]\n",
    "# data6 = data[data['learning_rate'] == 0.1]\n",
    "\n",
    "# g = sns.lineplot(x=\"n_estimator\", y=\"prediccion\", data=data1, label='learning rate 0.01')\n",
    "# g = sns.lineplot(x=\"n_estimator\", y=\"prediccion\", data=data2, label='learning rate 0.03')\n",
    "# g = sns.lineplot(x=\"n_estimator\", y=\"prediccion\", data=data3, label='learning rate 0.05')\n",
    "# g = sns.lineplot(x=\"n_estimator\", y=\"prediccion\", data=data4, label='learning rate 0.07')\n",
    "# g = sns.lineplot(x=\"n_estimator\", y=\"prediccion\", data=data5, label='learning rate 0.08')\n",
    "# g = sns.lineplot(x=\"n_estimator\", y=\"prediccion\", data=data6, label='learning rate 0.1')\n",
    "# g.set_title(\"learning rate y n_estimators tuning\", fontsize=35)\n",
    "# g.set_xlabel(\"n_estimators\", fontsize=30)\n",
    "# g.set_ylabel(\"Score de prediccion\", fontsize=30)"
   ]
  },
  {
   "cell_type": "code",
   "execution_count": null,
   "metadata": {},
   "outputs": [],
   "source": [
    "# sns.set(style=\"darkgrid\")\n",
    "\n",
    "# # Tamaño para hojas A4.\n",
    "# fig, ax = plt.subplots()\n",
    "# fig.set_size_inches(11.7, 8.27)\n",
    "\n",
    "# g = sns.scatterplot(x=\"depth\", y=\"prediccion\", data=data0)\n",
    "\n",
    "# g.set_title(\"depth tuning\", fontsize=35)\n",
    "# g.set_xlabel(\"depth\", fontsize=30)\n",
    "# g.set_ylabel(\"Score de prediccion\", fontsize=30)"
   ]
  },
  {
   "cell_type": "markdown",
   "metadata": {},
   "source": [
    "### =======================================================================\n",
    "### Resultado\n",
    "### ======================================================================="
   ]
  },
  {
   "cell_type": "code",
   "execution_count": null,
   "metadata": {},
   "outputs": [],
   "source": [
    "xgboost = xgb.XGBClassifier(n_estimators=200, learning_rate=0.05, max_depth=3)\n",
    "xgboost.fit(x, y)\n",
    "y_pred_rf = xgboost.predict_proba(test[features])[:,1]"
   ]
  },
  {
   "cell_type": "code",
   "execution_count": null,
   "metadata": {},
   "outputs": [],
   "source": [
    "## =================================================================================================\n",
    "## ARMAMOS EN BASE A LA PREDICCIÓN QUE TENEMOS UN CSV PARA SUBIR A KAGGLE CON EL FORMATO INDICADO.\n",
    "## =================================================================================================\n",
    "submission = pd.DataFrame({ 'label': y_pred_rf, 'person': test['person'] })\n",
    "submission.to_csv(\"submission_grupo17_fin.csv\", index=False)"
   ]
  },
  {
   "cell_type": "code",
   "execution_count": null,
   "metadata": {},
   "outputs": [],
   "source": [
    "\n"
   ]
  },
  {
   "cell_type": "code",
   "execution_count": null,
   "metadata": {},
   "outputs": [],
   "source": [
    "## SE AGREGÓ EL FEATURE QUE ENGLOBA LOS SISTEMAS OPERATIVOS MÁS COMUNES UTILIZADOS O BUSCADOS POR LOS USUARIOS:\n",
    "## PREVIAMENTE TENÍAMOS: 0.84077\n",
    "## RESULTADO DEL SUBMIT: 0.85216 >> VEMOS UNA MEJORA."
   ]
  },
  {
   "cell_type": "code",
   "execution_count": null,
   "metadata": {},
   "outputs": [],
   "source": [
    "## SE AGREGÓ EL FEATURE QUE ENGLOBA LOS MODELOS MÁS COMUNES UTILIZADOS O BUSCADOS POR LOS USUARIOS:\n",
    "## PREVIAMENTE TENÍAMOS: 0.85216\n",
    "## RESULTADO DEL SUBMIT:0.85294 >> VEMOS UNA MEJORA."
   ]
  },
  {
   "cell_type": "code",
   "execution_count": null,
   "metadata": {},
   "outputs": [],
   "source": [
    "## SE AGREGÓ UN PAR DE FEATURES (pais, device_type, Capacidad_en_GB, Puntaje):\n",
    "## PREVIAMENTE TENÍAMOS: 0.85294\n",
    "## RESULTADO DEL SUBMIT: 0.85524 >> VEMOS UNA MEJORA."
   ]
  },
  {
   "cell_type": "code",
   "execution_count": null,
   "metadata": {},
   "outputs": [],
   "source": [
    "## AHORA LO QUE SE BUSCA ES HACER EL PROMEDIO EN LUGAR DE LA SUMA:\n",
    "## PREVIAMENTE TENÍAMOS: 0.85524\n",
    "## RESULTADO DEL SUBMIT: 0.85519 >> CON LO CUAL EMPEORA.\n",
    "\n",
    "## Tocando los hiperparametros >> 0.85546"
   ]
  },
  {
   "cell_type": "code",
   "execution_count": null,
   "metadata": {},
   "outputs": [],
   "source": [
    "## AGREGAMOS LAS CIUDADES CON MAS EVENTOS\n",
    "## PREVIAMENTE TENÍAMOS: 0.85546\n",
    "## RESULTADO DEL SUBMIT: 0.85438 >> CON LO CUAL EMPEORA."
   ]
  },
  {
   "cell_type": "code",
   "execution_count": null,
   "metadata": {},
   "outputs": [],
   "source": []
  },
  {
   "cell_type": "code",
   "execution_count": null,
   "metadata": {},
   "outputs": [],
   "source": []
  }
 ],
 "metadata": {
  "kernelspec": {
   "display_name": "Python 2",
   "language": "python",
   "name": "python2"
  },
  "language_info": {
   "codemirror_mode": {
    "name": "ipython",
    "version": 2
   },
   "file_extension": ".py",
   "mimetype": "text/x-python",
   "name": "python",
   "nbconvert_exporter": "python",
   "pygments_lexer": "ipython2",
   "version": "2.7.14"
  }
 },
 "nbformat": 4,
 "nbformat_minor": 2
}
