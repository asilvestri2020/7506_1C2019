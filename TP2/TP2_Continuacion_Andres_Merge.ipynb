{
 "cells": [
  {
   "cell_type": "code",
   "execution_count": 1,
   "metadata": {},
   "outputs": [
    {
     "name": "stderr",
     "output_type": "stream",
     "text": [
      "/usr/local/lib/python2.7/dist-packages/sklearn/cross_validation.py:41: DeprecationWarning: This module was deprecated in version 0.18 in favor of the model_selection module into which all the refactored classes and functions are moved. Also note that the interface of the new CV iterators are different from that of this module. This module will be removed in 0.20.\n",
      "  \"This module will be removed in 0.20.\", DeprecationWarning)\n"
     ]
    }
   ],
   "source": [
    "## IMPORTACIÓN GENERAL DE LIBRERIAS Y VISUALIZACIÓN DE DATOS (matplotlib y seaborn)\n",
    "import numpy as np\n",
    "import pandas as pd\n",
    "import seaborn as sns\n",
    "import datetime as DT\n",
    "import warnings as wr\n",
    "import xgboost as xgb\n",
    "import matplotlib.pyplot as plt\n",
    "\n",
    "from sklearn import metrics\n",
    "from sklearn.ensemble import RandomForestClassifier\n",
    "from sklearn.cross_validation import train_test_split\n",
    "## from sklearn.model_selection import train_test_split\n",
    "\n",
    "%matplotlib inline\n",
    "warnings.filterwarnings('ignore')\n",
    "plt.style.use('default') \n",
    "sns.set(style=\"whitegrid\") \n",
    "plt.rcParams['figure.figsize'] = (15, 10)\n",
    "pd.set_option('display.max_columns', 1000)\n",
    "np.set_printoptions(threshold=np.nan)"
   ]
  },
  {
   "cell_type": "code",
   "execution_count": 2,
   "metadata": {},
   "outputs": [],
   "source": [
    "################################################################\n",
    "## EVENTS.\n",
    "################################################################\n",
    "## OBTENEMOS TODA LA INFORMACIÓN DE LOS DIFERENTES CSV.\n",
    "events = pd.read_csv('../../events.csv')\n",
    "## TRANSFORMACIÓN DE TIPOS PARA EL CSV (EVENTS)\n",
    "events['wifi'] = events['wifi'].fillna(False).astype(bool)\n",
    "events['connection_type'] = events['connection_type'].astype('category')\n",
    "events['trans_id'] = events['trans_id'].astype('category')\n",
    "events['date'] = pd.to_datetime(events['date'], infer_datetime_format=True)\n",
    "## DIFERENCIAMOS EN TRES COLUMNAS DIFERENTES EL DIA, MES Y AÑO.\n",
    "events['mes'] = events['date'].dt.month\n",
    "events['dia'] = events['date'].dt.day\n",
    "events['hora'] = events['date'].dt.hour\n",
    "# ARMAMOS UNA LÓGICA PARA SEGMENTAR LAS FRANJAS HORARIAS.\n",
    "# MADRUGADA de 00 a 06\n",
    "events['hora_madrugada'] = 0\n",
    "events.loc[((events.hora > -1) & (events.hora < 7)), 'hora_madrugada'] = 1\n",
    "# MAÑANA de 07 a 11\n",
    "events['hora_maniana'] = 0\n",
    "events.loc[((events.hora > 6) & (events.hora < 12)), 'hora_maniana'] = 1\n",
    "# ALMUERZO de 12 a 13\n",
    "events['hora_almuerzo'] = 0\n",
    "events.loc[((events.hora > 11) & (events.hora < 14)), 'hora_almuerzo'] = 1\n",
    "# TARDE de 14 a 18\n",
    "events['hora_tarde'] = 0\n",
    "events.loc[((events.hora > 13) & (events.hora < 19)), 'hora_tarde'] = 1\n",
    "# NOCHE de 19 a 23\n",
    "events['hora_noche'] = 0\n",
    "events.loc[((events.hora > 18) & (events.hora < 24)), 'hora_noche'] = 1\n",
    "################################################################\n",
    "################################################################"
   ]
  },
  {
   "cell_type": "code",
   "execution_count": 3,
   "metadata": {},
   "outputs": [],
   "source": [
    "##################### connection_type\n",
    "dummies = pd.get_dummies(events['connection_type'], drop_first=False)\n",
    "events = pd.concat([events, dummies], axis=1)\n",
    "del events['connection_type']\n",
    "##################### event_uuid\n",
    "del events['event_uuid']\n",
    "##################### date\n",
    "del events['date']\n",
    "##################### wifi\n",
    "events['wifi_value'] = 2\n",
    "events.loc[events.wifi == False, 'wifi_value'] = 0\n",
    "events.loc[events.wifi == True, 'wifi_value'] = 1\n",
    "del events['wifi']\n",
    "##################### attributed\n",
    "events['attributed_value'] = 2\n",
    "events.loc[events.attributed == False, 'attributed_value'] = 0\n",
    "events.loc[events.attributed == True, 'attributed_value'] = 1\n",
    "del events['attributed']\n",
    "##################### trans_id\n",
    "events['trans_id_value'] = events['trans_id'].cat.codes\n",
    "events.loc[events.trans_id_value == -1, 'trans_id_value'] = 0\n",
    "del events['trans_id']\n",
    "##################### fillna\n",
    "events.fillna(0, inplace = True)"
   ]
  },
  {
   "cell_type": "code",
   "execution_count": 16,
   "metadata": {},
   "outputs": [],
   "source": [
    "################################################################\n",
    "## Ventana 1: Del 18 al 20\n",
    "## Ventana 2: Del 19 al 21\n",
    "## Ventana 3: Del 20 al 22\n",
    "## Ventana 4: Del 21 al 23\n",
    "## Ventana 5: Del 22 al 24\n",
    "################################################################\n",
    "events_Ventana1 = events[(events['dia'] >= 21) & (events['dia'] <= 23)]\n",
    "events_Ventana2 = events[(events['dia'] >= 24) & (events['dia'] <= 26)]\n",
    "#events_Ventana3 = events[(events['dia'] >= 20) & (events['dia'] <= 22)]\n",
    "#events_Ventana4 = events[(events['dia'] >= 21) & (events['dia'] <= 23)]\n",
    "#events_Ventana5 = events[(events['dia'] >= 22) & (events['dia'] <= 24)]\n",
    "################################################################"
   ]
  },
  {
   "cell_type": "code",
   "execution_count": 34,
   "metadata": {},
   "outputs": [],
   "source": [
    "################################################################\n",
    "## Limpiamos el CSV cargado para que no ocupe memoria.\n",
    "## events = ''\n",
    "## events_Ventana1 = ''\n",
    "## events_Ventana2 = ''\n",
    "## events_Ventana3 = ''\n",
    "## events_Ventana4 = ''\n",
    "## events_Ventana5 = ''\n",
    "################################################################"
   ]
  },
  {
   "cell_type": "code",
   "execution_count": 129,
   "metadata": {},
   "outputs": [],
   "source": [
    "################################################################\n",
    "## CLICKS.\n",
    "################################################################\n",
    "## OBTENEMOS TODA LA INFORMACIÓN DE LOS DIFERENTES CSV.\n",
    "clicks = pd.read_csv('../../clicks.csv')\n",
    "## TRANSFORMACIÓN DE TIPOS PARA EL CSV (CLICKS)\n",
    "clicks['created'] = pd.to_datetime(clicks['created'], infer_datetime_format=True)\n",
    "## DIFERENCIAMOS EN TRES COLUMNAS DIFERENTES EL DIA, MES Y AÑO.\n",
    "clicks['mes'] = clicks['created'].dt.month\n",
    "clicks['dia'] = clicks['created'].dt.day\n",
    "clicks['hora'] = clicks['created'].dt.hour\n",
    "# ARMAMOS UNA LÓGICA PARA SEGMENTAR LAS FRANJAS HORARIAS.\n",
    "# MADRUGADA de 00 a 06\n",
    "clicks['hora_madrugada'] = 0\n",
    "clicks.loc[((clicks.hora > -1) & (clicks.hora < 7)), 'hora_madrugada'] = 1\n",
    "# MAÑANA de 07 a 11\n",
    "clicks['hora_maniana'] = 0\n",
    "clicks.loc[((clicks.hora > 6) & (clicks.hora < 12)), 'hora_maniana'] = 1\n",
    "# ALMUERZO de 12 a 13\n",
    "clicks['hora_almuerzo'] = 0\n",
    "clicks.loc[((clicks.hora > 11) & (clicks.hora < 14)), 'hora_almuerzo'] = 1\n",
    "# TARDE de 14 a 18\n",
    "clicks['hora_tarde'] = 0\n",
    "clicks.loc[((clicks.hora > 13) & (clicks.hora < 19)), 'hora_tarde'] = 1\n",
    "# NOCHE de 19 a 23\n",
    "clicks['hora_noche'] = 0\n",
    "clicks.loc[((clicks.hora > 18) & (clicks.hora < 24)), 'hora_noche'] = 1\n",
    "################################################################\n",
    "################################################################"
   ]
  },
  {
   "cell_type": "code",
   "execution_count": 130,
   "metadata": {},
   "outputs": [],
   "source": [
    "##################### trans_id\n",
    "clicks.fillna(0, inplace = True)\n",
    "clicks['trans_id'] = clicks['trans_id'].astype('category')\n",
    "##################### date\n",
    "del clicks['created']\n",
    "##################### wifi_connection\n",
    "clicks['wifi_value'] = 2\n",
    "clicks.loc[clicks.wifi_connection == False, 'wifi_value'] = 0\n",
    "clicks.loc[clicks.wifi_connection == True, 'wifi_value'] = 1\n",
    "del clicks['wifi_connection']\n",
    "##################### trans_id\n",
    "clicks['trans_id_value'] = clicks['trans_id'].cat.codes\n",
    "clicks.loc[clicks.trans_id_value == -1, 'trans_id_value'] = 0\n",
    "del clicks['trans_id']\n",
    "##################### touchXY\n",
    "clicks.loc[clicks.touchX == 'Infinity', 'touchX'] = 2\n",
    "clicks.loc[clicks.touchY == 'Infinity', 'touchY'] = 2\n",
    "clicks['touchX'] = clicks['touchX'].astype(float).fillna(0.0)\n",
    "clicks['touchY'] = clicks['touchY'].astype(float).fillna(0.0)"
   ]
  },
  {
   "cell_type": "code",
   "execution_count": 127,
   "metadata": {},
   "outputs": [],
   "source": [
    "################################################################\n",
    "## Ventana 1: Del 18 al 20\n",
    "## Ventana 2: Del 19 al 21\n",
    "## Ventana 3: Del 20 al 22\n",
    "## Ventana 4: Del 21 al 23\n",
    "## Ventana 5: Del 22 al 24\n",
    "################################################################\n",
    "clicks_Ventana1 = clicks[(clicks['dia'] >= 21) & (clicks['dia'] <= 23)]\n",
    "clicks_Ventana2 = clicks[(clicks['dia'] >= 24) & (clicks['dia'] <= 26)]\n",
    "#clicks_Ventana3 = clicks[(clicks['dia'] >= 20) & (clicks['dia'] <= 22)]\n",
    "#clicks_Ventana4 = clicks[(clicks['dia'] >= 21) & (clicks['dia'] <= 23)]\n",
    "#clicks_Ventana5 = clicks[(clicks['dia'] >= 22) & (clicks['dia'] <= 24)]\n",
    "################################################################"
   ]
  },
  {
   "cell_type": "code",
   "execution_count": 33,
   "metadata": {},
   "outputs": [],
   "source": [
    "################################################################\n",
    "## Limpiamos el CSV cargado para que no ocupe memoria.\n",
    "## clicks = ''\n",
    "## clicks_Ventana1 = ''\n",
    "## clicks_Ventana2 = ''\n",
    "## clicks_Ventana3 = ''\n",
    "## clicks_Ventana4 = ''\n",
    "## clicks_Ventana5 = ''\n",
    "################################################################"
   ]
  },
  {
   "cell_type": "code",
   "execution_count": 2,
   "metadata": {},
   "outputs": [],
   "source": [
    "################################################################\n",
    "## INSTALLS.\n",
    "################################################################\n",
    "## OBTENEMOS TODA LA INFORMACIÓN DE LOS DIFERENTES CSV.\n",
    "installs = pd.read_csv('../../installs.csv')\n",
    "## TRANSFORMACIÓN DE TIPOS PARA EL CSV (INSTALLS)\n",
    "installs['kind'] = installs['kind'].astype('category')\n",
    "installs['user_agent'] = installs['user_agent'].astype('category')\n",
    "installs['session_user_agent'] = installs['session_user_agent'].astype('category')\n",
    "installs['created'] = pd.to_datetime(installs['created'], infer_datetime_format=True)\n",
    "installs['trans_id'] = installs['trans_id'].astype('category')\n",
    "## DIFERENCIAMOS EN TRES COLUMNAS DIFERENTES EL DIA, MES Y AÑO.\n",
    "installs['mes'] = installs['created'].dt.month\n",
    "installs['dia'] = installs['created'].dt.day\n",
    "installs['hora'] = installs['created'].dt.hour\n",
    "# ARMAMOS UNA LÓGICA PARA SEGMENTAR LAS FRANJAS HORARIAS.\n",
    "# MADRUGADA de 00 a 06\n",
    "installs['hora_madrugada'] = 0\n",
    "installs.loc[((installs.hora > -1) & (installs.hora < 7)), 'hora_madrugada'] = 1\n",
    "# MAÑANA de 07 a 11\n",
    "installs['hora_maniana'] = 0\n",
    "installs.loc[((installs.hora > 6) & (installs.hora < 12)), 'hora_maniana'] = 1\n",
    "# ALMUERZO de 12 a 13\n",
    "installs['hora_almuerzo'] = 0\n",
    "installs.loc[((installs.hora > 11) & (installs.hora < 14)), 'hora_almuerzo'] = 1\n",
    "# TARDE de 14 a 18\n",
    "installs['hora_tarde'] = 0\n",
    "installs.loc[((installs.hora > 13) & (installs.hora < 19)), 'hora_tarde'] = 1\n",
    "# NOCHE de 19 a 23\n",
    "installs['hora_noche'] = 0\n",
    "installs.loc[((installs.hora > 18) & (installs.hora < 24)), 'hora_noche'] = 1\n",
    "installs['cantidad'] = 1\n",
    "################################################################\n",
    "################################################################"
   ]
  },
  {
   "cell_type": "code",
   "execution_count": 3,
   "metadata": {},
   "outputs": [],
   "source": [
    "##################### fillna\n",
    "installs['click_hash'].fillna(0, inplace = True)\n",
    "installs['device_brand'].fillna(0, inplace = True)\n",
    "installs['device_model'].fillna(0, inplace = True)\n",
    "installs['device_language'].fillna(0, inplace = True)\n",
    "##################### created event\n",
    "del installs['event_uuid']\n",
    "#del installs['created']\n",
    "##################### wifi\n",
    "installs['wifi_value'] = 2\n",
    "installs.loc[installs.wifi == False, 'wifi_value'] = 0\n",
    "installs.loc[installs.wifi == True, 'wifi_value'] = 1\n",
    "del installs['wifi']\n",
    "##################### attributed\n",
    "installs['attributed_value'] = 2\n",
    "installs.loc[installs.attributed == False, 'attributed_value'] = 0\n",
    "installs.loc[installs.attributed == True, 'attributed_value'] = 1\n",
    "del installs['attributed']\n",
    "##################### implicit\n",
    "installs['implicit_value'] = 2\n",
    "installs.loc[installs.implicit == False, 'implicit_value'] = 0\n",
    "installs.loc[installs.implicit == True, 'implicit_value'] = 1\n",
    "del installs['implicit']\n",
    "##################### click_hash\n",
    "installs['click_hash'] = installs['click_hash'].astype('category')\n",
    "##################### session_user_agent\n",
    "installs['session_user_agent_value'] = installs['session_user_agent'].cat.codes\n",
    "del installs['session_user_agent']\n",
    "installs.loc[installs.session_user_agent_value == -1, 'session_user_agent_value'] = 0\n",
    "##################### click_hash\n",
    "installs['click_hash_value'] = installs['click_hash'].cat.codes\n",
    "installs.loc[installs.click_hash_value == -1, 'click_hash_value'] = 0\n",
    "del installs['click_hash']\n",
    "##################### user_agent\n",
    "installs['user_agent_value'] = installs['user_agent'].cat.codes\n",
    "installs.loc[installs.user_agent_value == -1, 'user_agent_value'] = 0\n",
    "del installs['user_agent']\n",
    "##################### kind\n",
    "installs['kind_value'] = installs['kind'].cat.codes\n",
    "installs.loc[installs.kind_value == -1, 'kind_value'] = 0\n",
    "del installs['kind']\n",
    "##################### trans_id\n",
    "installs['trans_id_value'] = installs['trans_id'].cat.codes\n",
    "installs.loc[installs.trans_id_value == -1, 'trans_id_value'] = 0\n",
    "del installs['trans_id']\n",
    "##################### pasamos columnas a string.\n",
    "installs['ref_type'] = installs['ref_type'].astype(str)\n",
    "installs['wifi_value'] = installs['wifi_value'].astype(str)\n",
    "installs['implicit_value'] = installs['implicit_value'].astype(str)\n",
    "\n",
    "installs.loc[installs.ref_type == '1891515180541284343', 'ref_type'] = 'ref_type_1'\n",
    "installs.loc[installs.ref_type == '1494519392962156891', 'ref_type'] = 'ref_type_2'\n",
    "\n",
    "installs.loc[installs.wifi_value == '0', 'wifi_value'] = 'wifi_value_0'\n",
    "installs.loc[installs.wifi_value == '1', 'wifi_value'] = 'wifi_value_1'\n",
    "installs.loc[installs.wifi_value == '2', 'wifi_value'] = 'wifi_value_2'\n",
    "\n",
    "installs.loc[installs.implicit_value == '0', 'implicit_value'] = 'implicit_value_0'\n",
    "installs.loc[installs.implicit_value == '1', 'implicit_value'] = 'implicit_value_1'\n",
    "\n",
    "dummies = pd.get_dummies(installs['ref_type'], drop_first=False)\n",
    "installs = pd.concat([installs, dummies], axis=1)\n",
    "dummies = pd.get_dummies(installs['wifi_value'], drop_first=False)\n",
    "installs = pd.concat([installs, dummies], axis=1)\n",
    "dummies = pd.get_dummies(installs['implicit_value'], drop_first=False)\n",
    "installs = pd.concat([installs, dummies], axis=1)\n",
    "\n",
    "del installs['ref_type']\n",
    "del installs['wifi_value']\n",
    "del installs['implicit_value']"
   ]
  },
  {
   "cell_type": "code",
   "execution_count": 4,
   "metadata": {},
   "outputs": [],
   "source": [
    "################################################################\n",
    "## Ventana 1: Del 18 al 20\n",
    "## Ventana 2: Del 19 al 21\n",
    "## Ventana 3: Del 20 al 22\n",
    "## Ventana 4: Del 21 al 23\n",
    "## Ventana 5: Del 22 al 24\n",
    "################################################################\n",
    "installs_Ventana1 = installs[(installs['dia'] >= 21) & (installs['dia'] <= 23)]\n",
    "installs_Ventana2 = installs[(installs['dia'] >= 24) & (installs['dia'] <= 26)]\n",
    "#installs_Ventana3 = installs[(installs['dia'] >= 20) & (installs['dia'] <= 22)]\n",
    "#installs_Ventana4 = installs[(installs['dia'] >= 21) & (installs['dia'] <= 23)]\n",
    "#installs_Ventana5 = installs[(installs['dia'] >= 22) & (installs['dia'] <= 24)]\n",
    "################################################################"
   ]
  },
  {
   "cell_type": "code",
   "execution_count": 5,
   "metadata": {},
   "outputs": [],
   "source": [
    "################################################################\n",
    "installs['ref_hash'] = installs['ref_hash'].astype(str)\n",
    "installs['ref_hash'] = installs['ref_hash'] + '_sc'\n",
    "installs_Ventana1['ref_hash'] = installs_Ventana1['ref_hash'].astype(str)\n",
    "installs_Ventana1['ref_hash'] = installs_Ventana1['ref_hash'] + '_sc'\n",
    "installs_Ventana2['ref_hash'] = installs_Ventana2['ref_hash'].astype(str)\n",
    "installs_Ventana2['ref_hash'] = installs_Ventana2['ref_hash'] + '_sc'\n",
    "################################################################\n",
    "installs_cantidad_0 = installs[['ref_hash', 'cantidad', 'ref_type_1', 'ref_type_2', 'wifi_value_0', 'wifi_value_1', 'wifi_value_2', 'implicit_value_0', 'implicit_value_1']].copy()\n",
    "installs_cantidad_1 = installs_Ventana1[['ref_hash', 'cantidad', 'ref_type_1', 'ref_type_2', 'wifi_value_0', 'wifi_value_1', 'wifi_value_2', 'implicit_value_0', 'implicit_value_1']].copy()\n",
    "installs_cantidad_2 = installs_Ventana2[['ref_hash', 'cantidad', 'ref_type_1', 'ref_type_2', 'wifi_value_0', 'wifi_value_1', 'wifi_value_2', 'implicit_value_0', 'implicit_value_1']].copy()\n",
    "inst_cant_0 = installs_cantidad_0.groupby('ref_hash').sum()\n",
    "inst_cant_1 = installs_cantidad_1.groupby('ref_hash').sum()\n",
    "inst_cant_2 = installs_cantidad_2.groupby('ref_hash').sum()\n",
    "################################################################\n",
    "installs.drop(['cantidad', 'ref_type_1', 'ref_type_2', 'wifi_value_0', 'wifi_value_1', 'wifi_value_2', 'implicit_value_0', 'implicit_value_1'], axis=1, inplace=True)\n",
    "installs_Ventana1.drop(['cantidad', 'ref_type_1', 'ref_type_2', 'wifi_value_0', 'wifi_value_1', 'wifi_value_2', 'implicit_value_0', 'implicit_value_1'], axis=1, inplace=True)\n",
    "installs_Ventana2.drop(['cantidad', 'ref_type_1', 'ref_type_2', 'wifi_value_0', 'wifi_value_1', 'wifi_value_2', 'implicit_value_0', 'implicit_value_1'], axis=1, inplace=True)\n",
    "inst_1 = installs_Ventana1.groupby('ref_hash').min()\n",
    "inst_2 = installs_Ventana2.groupby('ref_hash').min()\n",
    "################################################################"
   ]
  },
  {
   "cell_type": "code",
   "execution_count": 6,
   "metadata": {},
   "outputs": [],
   "source": [
    "inst_comb_1 = inst_1.merge(inst_cant_0, on=('ref_hash'), suffixes=('', '_r01'))\n",
    "inst_comb_2 = inst_2.merge(inst_cant_0, on=('ref_hash'), suffixes=('', '_r02'))\n",
    "inst_comb_01 = inst_comb_1.merge(inst_cant_1, on=('ref_hash'), suffixes=('', '_r11'))\n",
    "inst_comb_02 = inst_comb_2.merge(inst_cant_2, on=('ref_hash'), suffixes=('', '_r22'))"
   ]
  },
  {
   "cell_type": "code",
   "execution_count": 7,
   "metadata": {},
   "outputs": [],
   "source": [
    "################################################################\n",
    "## Limpiamos el CSV cargado para que no ocupe memoria.\n",
    "## installs = ''\n",
    "## installs_Ventana1 = ''\n",
    "## installs_Ventana2 = ''\n",
    "## installs_Ventana3 = ''\n",
    "## installs_Ventana4 = ''\n",
    "## installs_Ventana5 = ''\n",
    "################################################################"
   ]
  },
  {
   "cell_type": "code",
   "execution_count": 8,
   "metadata": {},
   "outputs": [],
   "source": [
    "################################################################\n",
    "## AUCTIONS.\n",
    "################################################################\n",
    "## OBTENEMOS TODA LA INFORMACIÓN DE LOS DIFERENTES CSV.\n",
    "auctions = pd.read_csv('../../auctions.csv',nrows=5000000)\n",
    "## TRANSFORMACIÓN DE TIPOS PARA EL CSV (AUCTIONS)\n",
    "auctions['date'] = pd.to_datetime(auctions['date'], infer_datetime_format=True)\n",
    "## DIFERENCIAMOS EN TRES COLUMNAS DIFERENTES EL DIA, MES Y AÑO.\n",
    "auctions['mes'] = auctions['date'].dt.month\n",
    "auctions['dia'] = auctions['date'].dt.day\n",
    "auctions['hora'] = auctions['date'].dt.hour\n",
    "# ARMAMOS UNA LÓGICA PARA SEGMENTAR LAS FRANJAS HORARIAS.\n",
    "# MADRUGADA de 00 a 06\n",
    "auctions['hora_madrugada'] = 0\n",
    "auctions.loc[((auctions.hora > -1) & (auctions.hora < 7)), 'hora_madrugada'] = 1\n",
    "# MAÑANA de 07 a 11\n",
    "auctions['hora_maniana'] = 0\n",
    "auctions.loc[((auctions.hora > 6) & (auctions.hora < 12)), 'hora_maniana'] = 1\n",
    "# ALMUERZO de 12 a 13\n",
    "auctions['hora_almuerzo'] = 0\n",
    "auctions.loc[((auctions.hora > 11) & (auctions.hora < 14)), 'hora_almuerzo'] = 1\n",
    "# TARDE de 14 a 18\n",
    "auctions['hora_tarde'] = 0\n",
    "auctions.loc[((auctions.hora > 13) & (auctions.hora < 19)), 'hora_tarde'] = 1\n",
    "# NOCHE de 19 a 23\n",
    "auctions['hora_noche'] = 0\n",
    "auctions.loc[((auctions.hora > 18) & (auctions.hora < 24)), 'hora_noche'] = 1\n",
    "# RENOMBRAMOS LA COLUMNA PARA LOS JOINS.\n",
    "auctions=auctions.rename(columns = {'device_id':'ref_hash'})\n",
    "auctions=auctions.rename(columns = {'date':'created'})\n",
    "#auctions['cantidad'] = 1\n",
    "################################################################\n",
    "################################################################"
   ]
  },
  {
   "cell_type": "code",
   "execution_count": 9,
   "metadata": {},
   "outputs": [],
   "source": [
    "##################### date\n",
    "#del auctions['date']"
   ]
  },
  {
   "cell_type": "code",
   "execution_count": 10,
   "metadata": {},
   "outputs": [],
   "source": [
    "################################################################\n",
    "## Ventana 1: Del 18 al 20\n",
    "## Ventana 2: Del 19 al 21\n",
    "## Ventana 3: Del 20 al 22\n",
    "## Ventana 4: Del 21 al 23\n",
    "## Ventana 5: Del 22 al 24\n",
    "################################################################\n",
    "auctions_Ventana1 = auctions[(auctions['dia'] >= 21) & (auctions['dia'] <= 23)]\n",
    "auctions_Ventana2 = auctions[(auctions['dia'] >= 24) & (auctions['dia'] <= 26)]\n",
    "#auctions_Ventana3 = auctions[(auctions['dia'] >= 20) & (auctions['dia'] <= 22)]\n",
    "#auctions_Ventana4 = auctions[(auctions['dia'] >= 20) & (auctions['dia'] <= 23)]\n",
    "#auctions_Ventana5 = auctions[(auctions['dia'] >= 23) & (auctions['dia'] <= 27)]\n",
    "################################################################"
   ]
  },
  {
   "cell_type": "code",
   "execution_count": 11,
   "metadata": {},
   "outputs": [],
   "source": [
    "auctions['ref_hash'] = auctions['ref_hash'].astype(str)\n",
    "auctions['ref_hash'] = auctions['ref_hash'] + '_st'\n",
    "auctions_Ventana1['ref_hash'] = auctions_Ventana1['ref_hash'].astype(str)\n",
    "auctions_Ventana1['ref_hash'] = auctions_Ventana1['ref_hash'] + '_st'\n",
    "auctions_Ventana2['ref_hash'] = auctions_Ventana2['ref_hash'].astype(str)\n",
    "auctions_Ventana2['ref_hash'] = auctions_Ventana2['ref_hash'] + '_st'"
   ]
  },
  {
   "cell_type": "code",
   "execution_count": 12,
   "metadata": {},
   "outputs": [],
   "source": [
    "################################################################\n",
    "## Limpiamos el CSV cargado para que no ocupe memoria.\n",
    "## auctions = ''\n",
    "## auctions_Ventana1 = ''\n",
    "## auctions_Ventana2 = ''\n",
    "## auctions_Ventana3 = ''\n",
    "## auctions_Ventana4 = ''\n",
    "## auctions_Ventana5 = ''\n",
    "################################################################"
   ]
  },
  {
   "cell_type": "code",
   "execution_count": 13,
   "metadata": {},
   "outputs": [],
   "source": [
    "################################################################\n",
    "## TARGET.\n",
    "################################################################\n",
    "## OBTENEMOS TODA LA INFORMACIÓN DE LOS DIFERENTES CSV.\n",
    "targets = pd.read_csv('../../target.csv')\n",
    "targets_sc = targets[targets['ref_hash'].str.contains('_sc')]\n",
    "targets_st = targets[targets['ref_hash'].str.contains('_st')]\n",
    "################################################################\n",
    "################################################################"
   ]
  },
  {
   "cell_type": "markdown",
   "metadata": {},
   "source": [
    "## =================================================================\n",
    "## JUNTAMOS LOS DATAFRAMES Y EMPEZAMOS A ENTRENAR (SC = INSTALLS).\n",
    "## ================================================================="
   ]
  },
  {
   "cell_type": "code",
   "execution_count": 14,
   "metadata": {},
   "outputs": [],
   "source": [
    "targets['ref_hash'] = targets['ref_hash'].astype(str)\n",
    "targets_st['ref_hash'] = targets_st['ref_hash'].astype(str)\n",
    "targets_sc['ref_hash'] = targets_sc['ref_hash'].astype(str)"
   ]
  },
  {
   "cell_type": "code",
   "execution_count": 15,
   "metadata": {},
   "outputs": [],
   "source": [
    "#inst_1 = installs_Ventana1.groupby('ref_hash').min()\n",
    "#inst_2 = installs_Ventana2.groupby('ref_hash').min()\n",
    "#########################################################################\n",
    "# Ahora esto lo tenemos hecho más arriba en inst_comb_01 e inst_comb_02\n",
    "#########################################################################\n",
    "inst_comb_01['obj'] = 0"
   ]
  },
  {
   "cell_type": "code",
   "execution_count": 16,
   "metadata": {},
   "outputs": [],
   "source": [
    "inst_comb = inst_comb_01.merge(inst_comb_02, on=('ref_hash'), suffixes=('_lefto', '_raito'))\n",
    "inst_comb['obj'] = (inst_comb['created_raito'] - inst_comb['created_lefto']).dt.total_seconds()"
   ]
  },
  {
   "cell_type": "code",
   "execution_count": 17,
   "metadata": {},
   "outputs": [],
   "source": [
    "inst_comb = inst_comb.iloc[:, 0:38]\n",
    "inst_comb['obj'] = inst_comb['obj'].astype(int)"
   ]
  },
  {
   "cell_type": "code",
   "execution_count": 18,
   "metadata": {},
   "outputs": [],
   "source": [
    "columnas_relevantes_inst = list(inst_comb.select_dtypes(include=['int','float64','uint8']).columns)\n",
    "inst_comb = inst_comb.loc[:, inst_comb.columns.isin(columnas_relevantes_inst)]"
   ]
  },
  {
   "cell_type": "code",
   "execution_count": 19,
   "metadata": {},
   "outputs": [],
   "source": [
    "inst_comb = inst_comb.iloc[:, 6:32]\n",
    "columnas_relevantes_inst = list(inst_comb_02.select_dtypes(include=['int','float64','uint8']).columns)\n",
    "inst_comb_02 = inst_comb_02.loc[:, inst_comb_02.columns.isin(columnas_relevantes_inst)]"
   ]
  },
  {
   "cell_type": "code",
   "execution_count": 20,
   "metadata": {},
   "outputs": [],
   "source": [
    "inst_ventana2 = inst_comb_02.iloc[:, 6:32]"
   ]
  },
  {
   "cell_type": "code",
   "execution_count": 21,
   "metadata": {},
   "outputs": [],
   "source": [
    "target_result_sc = pd.merge(targets_sc, inst_ventana2, how='left', left_on='ref_hash', right_on='ref_hash')"
   ]
  },
  {
   "cell_type": "markdown",
   "metadata": {},
   "source": [
    "## =================================================================\n",
    "## JUNTAMOS LOS DATAFRAMES Y EMPEZAMOS A ENTRENAR (ST = AUCTIONS).\n",
    "## ================================================================="
   ]
  },
  {
   "cell_type": "code",
   "execution_count": 22,
   "metadata": {},
   "outputs": [],
   "source": [
    "targets['ref_hash'] = targets['ref_hash'].astype(str)\n",
    "targets_st['ref_hash'] = targets_st['ref_hash'].astype(str)\n",
    "targets_sc['ref_hash'] = targets_sc['ref_hash'].astype(str)"
   ]
  },
  {
   "cell_type": "code",
   "execution_count": 23,
   "metadata": {},
   "outputs": [],
   "source": [
    "auct_1 = auctions_Ventana1.groupby('ref_hash').min()\n",
    "auct_2 = auctions_Ventana2.groupby('ref_hash').min()\n",
    "auct_1['obj'] = 0"
   ]
  },
  {
   "cell_type": "code",
   "execution_count": 24,
   "metadata": {},
   "outputs": [],
   "source": [
    "auct_comb = auct_1.merge(auct_2, on=('ref_hash'), suffixes=('_lefto', '_raito'))\n",
    "auct_comb['obj'] = (auct_comb['created_raito'] - auct_comb['created_lefto']).dt.total_seconds()"
   ]
  },
  {
   "cell_type": "code",
   "execution_count": 25,
   "metadata": {},
   "outputs": [],
   "source": [
    "auct_comb = auct_comb.iloc[:, 0:12]\n",
    "auct_comb['obj'] = auct_comb['obj'].astype(int)\n",
    "columnas_relevantes_auct = list(auct_comb.select_dtypes(include=['int','float64','uint8']).columns)"
   ]
  },
  {
   "cell_type": "code",
   "execution_count": 26,
   "metadata": {},
   "outputs": [],
   "source": [
    "auct_comb = auct_comb.loc[:, auct_comb.columns.isin(columnas_relevantes_auct)]\n",
    "auct_comb = auct_comb.iloc[:, 2:13]\n",
    "columnas_relevantes_auct = list(auct_2.select_dtypes(include=['int','float64','uint8']).columns)\n",
    "auct_2 = auct_2.loc[:, auct_2.columns.isin(columnas_relevantes_auct)]\n",
    "auct_ventana2 = auct_2.iloc[:, 2:13]\n",
    "target_result_st = pd.merge(targets_st, auct_ventana2, how='left', left_on='ref_hash', right_on='ref_hash')"
   ]
  },
  {
   "cell_type": "markdown",
   "metadata": {},
   "source": [
    "### ========================================================================="
   ]
  },
  {
   "cell_type": "code",
   "execution_count": 27,
   "metadata": {},
   "outputs": [],
   "source": [
    "#auct_comb\n",
    "auct_comb = auct_comb.reset_index()\n",
    "auct_comb['ref_hash'] = auct_comb['ref_hash'].str.replace('_st','_sc')\n",
    "auct_comb.set_index('ref_hash', inplace=True)\n",
    "combinados_sc = pd.merge(inst_comb, auct_comb, how='left', on='ref_hash', suffixes=('_l', '_r'))\n",
    "combinados_sc.fillna(0, inplace = True)\n",
    "columna_L = combinados_sc.pop('obj_l')\n",
    "columna_R = combinados_sc.pop('obj_r')\n",
    "combinados_sc['obj'] = columna_L\n",
    "# combinados_sc.head()\n",
    "\n",
    "#inst_comb\n",
    "auct_comb = auct_comb.reset_index()\n",
    "auct_comb['ref_hash'] = auct_comb['ref_hash'].str.replace('_sc','_st')\n",
    "auct_comb.set_index('ref_hash', inplace=True)\n",
    "inst_comb = inst_comb.reset_index()\n",
    "inst_comb['ref_hash'] = inst_comb['ref_hash'].str.replace('_sc','_st')\n",
    "inst_comb.set_index('ref_hash', inplace=True)\n",
    "combinados_st = pd.merge(auct_comb, inst_comb, how='left', on='ref_hash', suffixes=('_l', '_r'))\n",
    "combinados_st.fillna(0, inplace = True)\n",
    "columna_L = combinados_st.pop('obj_l')\n",
    "columna_R = combinados_st.pop('obj_r')\n",
    "combinados_st['obj'] = columna_L\n",
    "# combinados_st.head()\n",
    "\n",
    "#auct_ventana2\n",
    "auct_ventana2 = auct_ventana2.reset_index()\n",
    "auct_ventana2['ref_hash'] = auct_ventana2['ref_hash'].str.replace('_st','_sc')\n",
    "auct_ventana2.set_index('ref_hash', inplace=True)\n",
    "combinados_target_sc = pd.merge(inst_ventana2, auct_ventana2, how='left', on='ref_hash', suffixes=('_l', '_r'))\n",
    "combinados_target_sc.fillna(0, inplace = True)\n",
    "#columna_L = combinados_sc.pop('obj_l')\n",
    "#columna_R = combinados_sc.pop('obj_r')\n",
    "#combinados_sc['obj'] = columna_L\n",
    "#inst_ventana2\n",
    "auct_ventana2 = auct_ventana2.reset_index()\n",
    "auct_ventana2['ref_hash'] = auct_ventana2['ref_hash'].str.replace('_sc','_st')\n",
    "auct_ventana2.set_index('ref_hash', inplace=True)\n",
    "inst_ventana2 = inst_ventana2.reset_index()\n",
    "inst_ventana2['ref_hash'] = inst_ventana2['ref_hash'].str.replace('_sc','_st')\n",
    "inst_ventana2.set_index('ref_hash', inplace=True)\n",
    "combinados_target_st = pd.merge(auct_ventana2, inst_ventana2, how='left', on='ref_hash', suffixes=('_l', '_r'))\n",
    "combinados_target_st.fillna(0, inplace = True)\n",
    "\n",
    "#target_result_sc\n",
    "#target_result_st"
   ]
  },
  {
   "cell_type": "markdown",
   "metadata": {},
   "source": [
    "### ========================================================================="
   ]
  },
  {
   "cell_type": "code",
   "execution_count": 28,
   "metadata": {},
   "outputs": [],
   "source": [
    "X_inst, y_inst = combinados_sc.iloc[:,:-1],combinados_sc.iloc[:,-1]"
   ]
  },
  {
   "cell_type": "code",
   "execution_count": 29,
   "metadata": {},
   "outputs": [],
   "source": [
    "X_auct, y_auct = combinados_st.iloc[:,:-1],combinados_st.iloc[:,-1]"
   ]
  },
  {
   "cell_type": "code",
   "execution_count": 30,
   "metadata": {},
   "outputs": [],
   "source": [
    "X_inst.columns = ['01', '02', '03', '04', '05', '06', '07', '08','09', '10', '11', '12','13', '14', '15', '16','17', '18', '19', '20','21', '22', '23', '24','25', '26', '27', '28','29', '30', '31', '32','33']"
   ]
  },
  {
   "cell_type": "code",
   "execution_count": 31,
   "metadata": {},
   "outputs": [],
   "source": [
    "X_auct.columns = ['01', '02', '03', '04', '05', '06', '07', '08','09', '10', '11', '12','13', '14', '15', '16','17', '18', '19', '20','21', '22', '23', '24','25', '26', '27', '28','29', '30', '31', '32','33']"
   ]
  },
  {
   "cell_type": "code",
   "execution_count": 32,
   "metadata": {},
   "outputs": [],
   "source": [
    "combinados_target_sc.columns = ['01', '02', '03', '04', '05', '06', '07', '08','09', '10', '11', '12','13', '14', '15', '16','17', '18', '19', '20','21', '22', '23', '24','25', '26', '27', '28','29', '30', '31', '32','33']"
   ]
  },
  {
   "cell_type": "code",
   "execution_count": 33,
   "metadata": {},
   "outputs": [],
   "source": [
    "combinados_target_st.columns = ['01', '02', '03', '04', '05', '06', '07', '08','09', '10', '11', '12','13', '14', '15', '16','17', '18', '19', '20','21', '22', '23', '24','25', '26', '27', '28','29', '30', '31', '32','33']"
   ]
  },
  {
   "cell_type": "markdown",
   "metadata": {},
   "source": [
    "### ===========================================================================\n",
    "### UNIFICAMOS LOS DATOS PARA HACER LOS ENTRENAMIENTOS Y LA PREDICCIÓN.\n",
    "### ==========================================================================="
   ]
  },
  {
   "cell_type": "code",
   "execution_count": 34,
   "metadata": {},
   "outputs": [],
   "source": [
    "data_dmatrix_inst = xgb.DMatrix(data=X_inst,label=y_inst)\n",
    "X_train_inst, X_test_inst, y_train_inst, y_test_inst = train_test_split(X_inst, y_inst, test_size=0.2, random_state=123)\n",
    "xg_reg_inst = xgb.XGBRegressor(objective = 'reg:linear', colsample_bytree = 0.3, \n",
    "              learning_rate = 0.1, max_depth = 5, alpha = 10, n_estimators = 10)"
   ]
  },
  {
   "cell_type": "code",
   "execution_count": 35,
   "metadata": {},
   "outputs": [],
   "source": [
    "data_dmatrix_auct = xgb.DMatrix(data=X_auct,label=y_auct)\n",
    "X_train_auct, X_test_auct, y_train_auct, y_test_auct = train_test_split(X_auct, y_auct, test_size=0.2, random_state=123)\n",
    "xg_reg_auct = xgb.XGBRegressor(objective = 'reg:linear', colsample_bytree = 0.3, \n",
    "             learning_rate = 0.1, max_depth = 5, alpha = 10, n_estimators = 10)"
   ]
  },
  {
   "cell_type": "code",
   "execution_count": 36,
   "metadata": {},
   "outputs": [
    {
     "data": {
      "text/plain": [
       "XGBRegressor(alpha=10, base_score=0.5, booster='gbtree', colsample_bylevel=1,\n",
       "       colsample_bytree=0.3, gamma=0, learning_rate=0.1, max_delta_step=0,\n",
       "       max_depth=5, min_child_weight=1, missing=None, n_estimators=10,\n",
       "       n_jobs=1, nthread=None, objective='reg:linear', random_state=0,\n",
       "       reg_alpha=0, reg_lambda=1, scale_pos_weight=1, seed=None,\n",
       "       silent=True, subsample=1)"
      ]
     },
     "execution_count": 36,
     "metadata": {},
     "output_type": "execute_result"
    }
   ],
   "source": [
    "xg_reg_inst.fit(X_train_inst,y_train_inst)"
   ]
  },
  {
   "cell_type": "code",
   "execution_count": 37,
   "metadata": {},
   "outputs": [
    {
     "data": {
      "text/plain": [
       "XGBRegressor(alpha=10, base_score=0.5, booster='gbtree', colsample_bylevel=1,\n",
       "       colsample_bytree=0.3, gamma=0, learning_rate=0.1, max_delta_step=0,\n",
       "       max_depth=5, min_child_weight=1, missing=None, n_estimators=10,\n",
       "       n_jobs=1, nthread=None, objective='reg:linear', random_state=0,\n",
       "       reg_alpha=0, reg_lambda=1, scale_pos_weight=1, seed=None,\n",
       "       silent=True, subsample=1)"
      ]
     },
     "execution_count": 37,
     "metadata": {},
     "output_type": "execute_result"
    }
   ],
   "source": [
    "xg_reg_auct.fit(X_train_auct,y_train_auct)"
   ]
  },
  {
   "cell_type": "code",
   "execution_count": 38,
   "metadata": {},
   "outputs": [],
   "source": [
    "combinados_target_sc['obj'] = 0\n",
    "X_target_inst, y_target_inst = combinados_target_sc.iloc[:,:-1],combinados_target_sc.iloc[:,-1]"
   ]
  },
  {
   "cell_type": "code",
   "execution_count": 39,
   "metadata": {},
   "outputs": [],
   "source": [
    "combinados_target_st['obj'] = 0\n",
    "X_target_auct, y_target_auct = combinados_target_st.iloc[:,:-1],combinados_target_st.iloc[:,-1]"
   ]
  },
  {
   "cell_type": "code",
   "execution_count": 40,
   "metadata": {},
   "outputs": [],
   "source": [
    "preds_sc = xg_reg_inst.predict(X_target_inst)\n",
    "## =================================================================================================\n",
    "## ARMAMOS EN BASE A LA PREDICCIÓN QUE TENEMOS UN CSV PARA SUBIR A KAGGLE CON EL FORMATO INDICADO.\n",
    "## =================================================================================================\n",
    "combinados_target_sc = combinados_target_sc.reset_index()\n",
    "submission_sc = pd.DataFrame({ 'resultado': preds_sc, 'ref_hash': combinados_target_sc['ref_hash'] })\n",
    "final_sc = pd.merge(targets_sc, submission_sc, how='left', left_on='ref_hash', right_on='ref_hash')\n",
    "final_sc['obj'] = final_sc['resultado']\n",
    "del final_sc['resultado']\n",
    "final_sc.fillna(0, inplace = True)"
   ]
  },
  {
   "cell_type": "code",
   "execution_count": 41,
   "metadata": {},
   "outputs": [],
   "source": [
    "preds_st = xg_reg_auct.predict(X_target_auct)\n",
    "## =================================================================================================\n",
    "## ARMAMOS EN BASE A LA PREDICCIÓN QUE TENEMOS UN CSV PARA SUBIR A KAGGLE CON EL FORMATO INDICADO.\n",
    "## =================================================================================================\n",
    "combinados_target_st = combinados_target_st.reset_index()\n",
    "submission_st = pd.DataFrame({ 'resultado': preds_st, 'ref_hash': combinados_target_st['ref_hash'] })\n",
    "final_st = pd.merge(targets_st, submission_st, how='left', left_on='ref_hash', right_on='ref_hash')\n",
    "final_st['obj'] = final_st['resultado']\n",
    "del final_st['resultado']\n",
    "final_st.fillna(0, inplace = True)"
   ]
  },
  {
   "cell_type": "markdown",
   "metadata": {},
   "source": [
    "### ======================================================================\n",
    "### GENERAMOS EL CSV PARA SUBIR A LA COMPETENCIA.\n",
    "### ======================================================================"
   ]
  },
  {
   "cell_type": "code",
   "execution_count": 42,
   "metadata": {},
   "outputs": [],
   "source": [
    "frames = [final_sc, final_st]\n",
    "final = pd.concat(frames)\n",
    "final.to_csv(\"submission_grupo34_010.csv\", index=False)"
   ]
  },
  {
   "cell_type": "markdown",
   "metadata": {},
   "source": [
    "### ======================================================================\n",
    "### ======================================================================\n",
    "### ======================================================================"
   ]
  }
 ],
 "metadata": {
  "kernelspec": {
   "display_name": "Python 2",
   "language": "python",
   "name": "python2"
  },
  "language_info": {
   "codemirror_mode": {
    "name": "ipython",
    "version": 2
   },
   "file_extension": ".py",
   "mimetype": "text/x-python",
   "name": "python",
   "nbconvert_exporter": "python",
   "pygments_lexer": "ipython2",
   "version": "2.7.14"
  }
 },
 "nbformat": 4,
 "nbformat_minor": 2
}
