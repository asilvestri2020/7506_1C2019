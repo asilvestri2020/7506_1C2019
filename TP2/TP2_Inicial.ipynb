{
 "cells": [
  {
   "cell_type": "code",
   "execution_count": 1,
   "metadata": {},
   "outputs": [
    {
     "name": "stderr",
     "output_type": "stream",
     "text": [
      "/usr/local/lib/python2.7/dist-packages/sklearn/cross_validation.py:41: DeprecationWarning: This module was deprecated in version 0.18 in favor of the model_selection module into which all the refactored classes and functions are moved. Also note that the interface of the new CV iterators are different from that of this module. This module will be removed in 0.20.\n",
      "  \"This module will be removed in 0.20.\", DeprecationWarning)\n"
     ]
    }
   ],
   "source": [
    "## IMPORTACIÓN GENERAL DE LIBRERIAS Y VISUALIZACIÓN DE DATOS (matplotlib y seaborn)\n",
    "import pandas as pd\n",
    "import numpy as np\n",
    "import matplotlib.pyplot as plt\n",
    "import seaborn as sns\n",
    "import datetime as DT\n",
    "import warnings\n",
    "from sklearn.ensemble import RandomForestClassifier\n",
    "from sklearn import metrics\n",
    "from sklearn.cross_validation import train_test_split\n",
    "import xgboost as xgb\n",
    "\n",
    "%matplotlib inline\n",
    "warnings.filterwarnings('ignore')\n",
    "plt.style.use('default') \n",
    "sns.set(style=\"whitegrid\") \n",
    "plt.rcParams['figure.figsize'] = (15, 10)\n",
    "pd.set_option('display.max_columns', 1000)\n",
    "np.set_printoptions(threshold=np.nan)"
   ]
  },
  {
   "cell_type": "code",
   "execution_count": 2,
   "metadata": {},
   "outputs": [],
   "source": [
    "################################################################\n",
    "## EVENTS.\n",
    "################################################################\n",
    "## OBTENEMOS TODA LA INFORMACIÓN DE LOS DIFERENTES CSV.\n",
    "events = pd.read_csv('../../events.csv')\n",
    "## TRANSFORMACIÓN DE TIPOS PARA EL CSV (EVENTS)\n",
    "events['wifi'] = events['wifi'].fillna(False).astype(bool)\n",
    "events['connection_type'] = events['connection_type'].astype('category')\n",
    "events['trans_id'] = events['trans_id'].astype('category')\n",
    "events['date'] = pd.to_datetime(events['date'], infer_datetime_format=True)\n",
    "## DIFERENCIAMOS EN TRES COLUMNAS DIFERENTES EL DIA, MES Y AÑO.\n",
    "events['mes'] = events['date'].dt.month\n",
    "events['dia'] = events['date'].dt.day\n",
    "events['hora'] = events['date'].dt.hour\n",
    "# ARMAMOS UNA LÓGICA PARA SEGMENTAR LAS FRANJAS HORARIAS.\n",
    "# MADRUGADA de 00 a 06\n",
    "events['hora_madrugada'] = 0\n",
    "events.loc[((events.hora > -1) & (events.hora < 7)), 'hora_madrugada'] = 1\n",
    "# MAÑANA de 07 a 11\n",
    "events['hora_maniana'] = 0\n",
    "events.loc[((events.hora > 6) & (events.hora < 12)), 'hora_maniana'] = 1\n",
    "# ALMUERZO de 12 a 13\n",
    "events['hora_almuerzo'] = 0\n",
    "events.loc[((events.hora > 11) & (events.hora < 14)), 'hora_almuerzo'] = 1\n",
    "# TARDE de 14 a 18\n",
    "events['hora_tarde'] = 0\n",
    "events.loc[((events.hora > 13) & (events.hora < 19)), 'hora_tarde'] = 1\n",
    "# NOCHE de 19 a 23\n",
    "events['hora_noche'] = 0\n",
    "events.loc[((events.hora > 18) & (events.hora < 24)), 'hora_noche'] = 1\n",
    "################################################################\n",
    "################################################################"
   ]
  },
  {
   "cell_type": "code",
   "execution_count": 3,
   "metadata": {},
   "outputs": [],
   "source": [
    "##################### connection_type\n",
    "dummies = pd.get_dummies(events['connection_type'], drop_first=False)\n",
    "events = pd.concat([events, dummies], axis=1)\n",
    "del events['connection_type']"
   ]
  },
  {
   "cell_type": "code",
   "execution_count": 4,
   "metadata": {},
   "outputs": [],
   "source": [
    "##################### event_uuid\n",
    "del events['event_uuid']"
   ]
  },
  {
   "cell_type": "code",
   "execution_count": 5,
   "metadata": {},
   "outputs": [],
   "source": [
    "##################### date\n",
    "del events['date']"
   ]
  },
  {
   "cell_type": "code",
   "execution_count": 6,
   "metadata": {},
   "outputs": [],
   "source": [
    "##################### wifi\n",
    "events['wifi_value'] = 2\n",
    "events.loc[events.wifi == False, 'wifi_value'] = 0\n",
    "events.loc[events.wifi == True, 'wifi_value'] = 1\n",
    "del events['wifi']"
   ]
  },
  {
   "cell_type": "code",
   "execution_count": 7,
   "metadata": {},
   "outputs": [],
   "source": [
    "##################### attributed\n",
    "events['attributed_value'] = 2\n",
    "events.loc[events.attributed == False, 'attributed_value'] = 0\n",
    "events.loc[events.attributed == True, 'attributed_value'] = 1\n",
    "del events['attributed']"
   ]
  },
  {
   "cell_type": "code",
   "execution_count": 15,
   "metadata": {},
   "outputs": [],
   "source": [
    "##################### trans_id\n",
    "events['trans_id_value'] = events['trans_id'].cat.codes\n",
    "events.loc[events.trans_id_value == -1, 'trans_id_value'] = 0\n",
    "del events['trans_id']"
   ]
  },
  {
   "cell_type": "code",
   "execution_count": 18,
   "metadata": {},
   "outputs": [
    {
     "name": "stdout",
     "output_type": "stream",
     "text": [
      "<class 'pandas.core.frame.DataFrame'>\n",
      "RangeIndex: 7744581 entries, 0 to 7744580\n",
      "Data columns (total 32 columns):\n",
      "index                 int64\n",
      "event_id              int64\n",
      "ref_type              int64\n",
      "ref_hash              int64\n",
      "application_id        int64\n",
      "device_countrycode    int64\n",
      "device_os_version     float64\n",
      "device_brand          float64\n",
      "device_model          float64\n",
      "device_city           float64\n",
      "session_user_agent    float64\n",
      "user_agent            float64\n",
      "carrier               float64\n",
      "kind                  float64\n",
      "device_os             float64\n",
      "ip_address            int64\n",
      "device_language       float64\n",
      "mes                   int64\n",
      "dia                   int64\n",
      "hora                  int64\n",
      "hora_madrugada        int64\n",
      "hora_maniana          int64\n",
      "hora_almuerzo         int64\n",
      "hora_tarde            int64\n",
      "hora_noche            int64\n",
      "Cable/DSL             uint8\n",
      "Cellular              uint8\n",
      "Corporate             uint8\n",
      "Dialup                uint8\n",
      "wifi_value            int64\n",
      "attributed_value      int64\n",
      "trans_id_value        int16\n",
      "dtypes: float64(10), int16(1), int64(17), uint8(4)\n",
      "memory usage: 1.6 GB\n"
     ]
    }
   ],
   "source": [
    "# trans_id category\n",
    "# events['ref_hash'].value_counts()\n",
    "events.info()"
   ]
  },
  {
   "cell_type": "code",
   "execution_count": 19,
   "metadata": {},
   "outputs": [],
   "source": [
    "################################################################\n",
    "## Ventana 1: Del 18 al 20\n",
    "## Ventana 2: Del 19 al 21\n",
    "## Ventana 3: Del 20 al 22\n",
    "## Ventana 4: Del 21 al 23\n",
    "## Ventana 5: Del 22 al 24\n",
    "################################################################\n",
    "events_Ventana1 = events[(events['dia'] >= 18) & (events['dia'] <= 20)]\n",
    "## events_Ventana2 = events[(events['dia'] >= 19) & (events['dia'] <= 21)]\n",
    "## events_Ventana3 = events[(events['dia'] >= 20) & (events['dia'] <= 22)]\n",
    "## events_Ventana4 = events[(events['dia'] >= 21) & (events['dia'] <= 23)]\n",
    "## events_Ventana5 = events[(events['dia'] >= 22) & (events['dia'] <= 24)]\n",
    "events = \"\"\n",
    "################################################################"
   ]
  },
  {
   "cell_type": "code",
   "execution_count": 35,
   "metadata": {},
   "outputs": [],
   "source": [
    "################################################################\n",
    "## CLICKS.\n",
    "################################################################\n",
    "## OBTENEMOS TODA LA INFORMACIÓN DE LOS DIFERENTES CSV.\n",
    "clicks = pd.read_csv('../../clicks.csv')\n",
    "## TRANSFORMACIÓN DE TIPOS PARA EL CSV (CLICKS)\n",
    "clicks['created'] = pd.to_datetime(clicks['created'], infer_datetime_format=True)\n",
    "## DIFERENCIAMOS EN TRES COLUMNAS DIFERENTES EL DIA, MES Y AÑO.\n",
    "clicks['mes'] = clicks['created'].dt.month\n",
    "clicks['dia'] = clicks['created'].dt.day\n",
    "clicks['hora'] = clicks['created'].dt.hour\n",
    "# ARMAMOS UNA LÓGICA PARA SEGMENTAR LAS FRANJAS HORARIAS.\n",
    "# MADRUGADA de 00 a 06\n",
    "clicks['hora_madrugada'] = 0\n",
    "clicks.loc[((clicks.hora > -1) & (clicks.hora < 7)), 'hora_madrugada'] = 1\n",
    "# MAÑANA de 07 a 11\n",
    "clicks['hora_maniana'] = 0\n",
    "clicks.loc[((clicks.hora > 6) & (clicks.hora < 12)), 'hora_maniana'] = 1\n",
    "# ALMUERZO de 12 a 13\n",
    "clicks['hora_almuerzo'] = 0\n",
    "clicks.loc[((clicks.hora > 11) & (clicks.hora < 14)), 'hora_almuerzo'] = 1\n",
    "# TARDE de 14 a 18\n",
    "clicks['hora_tarde'] = 0\n",
    "clicks.loc[((clicks.hora > 13) & (clicks.hora < 19)), 'hora_tarde'] = 1\n",
    "# NOCHE de 19 a 23\n",
    "clicks['hora_noche'] = 0\n",
    "clicks.loc[((clicks.hora > 18) & (clicks.hora < 24)), 'hora_noche'] = 1\n",
    "################################################################\n",
    "################################################################"
   ]
  },
  {
   "cell_type": "code",
   "execution_count": 37,
   "metadata": {},
   "outputs": [],
   "source": [
    "clicks.fillna(0, inplace = True)\n",
    "clicks['trans_id'] = clicks['trans_id'].astype('category')"
   ]
  },
  {
   "cell_type": "code",
   "execution_count": 40,
   "metadata": {},
   "outputs": [],
   "source": [
    "##################### date\n",
    "del clicks['created']"
   ]
  },
  {
   "cell_type": "code",
   "execution_count": 42,
   "metadata": {},
   "outputs": [],
   "source": [
    "##################### wifi_connection\n",
    "clicks['wifi_connection'] = 2\n",
    "clicks.loc[clicks.wifi_connection == False, 'wifi_value'] = 0\n",
    "clicks.loc[clicks.wifi_connection == True, 'wifi_value'] = 1\n",
    "del clicks['wifi_connection']"
   ]
  },
  {
   "cell_type": "code",
   "execution_count": 43,
   "metadata": {},
   "outputs": [],
   "source": [
    "##################### trans_id\n",
    "clicks['trans_id_value'] = clicks['trans_id'].cat.codes\n",
    "clicks.loc[clicks.trans_id_value == -1, 'trans_id_value'] = 0\n",
    "del clicks['trans_id']"
   ]
  },
  {
   "cell_type": "code",
   "execution_count": 46,
   "metadata": {},
   "outputs": [],
   "source": [
    "clicks.loc[clicks.touchX == 'Infinity', 'touchX'] = 2\n",
    "clicks.loc[clicks.touchY == 'Infinity', 'touchY'] = 2"
   ]
  },
  {
   "cell_type": "code",
   "execution_count": 48,
   "metadata": {},
   "outputs": [],
   "source": [
    "clicks['touchX'] = clicks['touchX'].astype(float).fillna(0.0)\n",
    "clicks['touchY'] = clicks['touchY'].astype(float).fillna(0.0)"
   ]
  },
  {
   "cell_type": "code",
   "execution_count": 49,
   "metadata": {},
   "outputs": [
    {
     "name": "stdout",
     "output_type": "stream",
     "text": [
      "<class 'pandas.core.frame.DataFrame'>\n",
      "RangeIndex: 64296 entries, 0 to 64295\n",
      "Data columns (total 27 columns):\n",
      "advertiser_id     64296 non-null int64\n",
      "action_id         64296 non-null float64\n",
      "source_id         64296 non-null int64\n",
      "country_code      64296 non-null int64\n",
      "latitude          64296 non-null float64\n",
      "longitude         64296 non-null float64\n",
      "carrier_id        64296 non-null float64\n",
      "os_minor          64296 non-null float64\n",
      "agent_device      64296 non-null float64\n",
      "os_major          64296 non-null float64\n",
      "specs_brand       64296 non-null int64\n",
      "brand             64296 non-null float64\n",
      "timeToClick       64296 non-null float64\n",
      "touchX            64296 non-null float64\n",
      "touchY            64296 non-null float64\n",
      "ref_type          64296 non-null int64\n",
      "ref_hash          64296 non-null int64\n",
      "mes               64296 non-null int64\n",
      "dia               64296 non-null int64\n",
      "hora              64296 non-null int64\n",
      "hora_madrugada    64296 non-null int64\n",
      "hora_maniana      64296 non-null int64\n",
      "hora_almuerzo     64296 non-null int64\n",
      "hora_tarde        64296 non-null int64\n",
      "hora_noche        64296 non-null int64\n",
      "wifi_value        0 non-null float64\n",
      "trans_id_value    64296 non-null int32\n",
      "dtypes: float64(12), int32(1), int64(14)\n",
      "memory usage: 13.0 MB\n"
     ]
    }
   ],
   "source": [
    "clicks.info()"
   ]
  },
  {
   "cell_type": "code",
   "execution_count": 50,
   "metadata": {},
   "outputs": [],
   "source": [
    "################################################################\n",
    "## Ventana 1: Del 18 al 20\n",
    "## Ventana 2: Del 19 al 21\n",
    "## Ventana 3: Del 20 al 22\n",
    "## Ventana 4: Del 21 al 23\n",
    "## Ventana 5: Del 22 al 24\n",
    "################################################################\n",
    "clicks_Ventana1 = clicks[(clicks['dia'] >= 18) & (clicks['dia'] <= 20)]\n",
    "## clicks_Ventana2 = clicks[(clicks['dia'] >= 19) & (clicks['dia'] <= 21)]\n",
    "## clicks_Ventana3 = clicks[(clicks['dia'] >= 20) & (clicks['dia'] <= 22)]\n",
    "## clicks_Ventana4 = clicks[(clicks['dia'] >= 21) & (clicks['dia'] <= 23)]\n",
    "## clicks_Ventana5 = clicks[(clicks['dia'] >= 22) & (clicks['dia'] <= 24)]\n",
    "clicks = \"\"\n",
    "################################################################"
   ]
  },
  {
   "cell_type": "code",
   "execution_count": 94,
   "metadata": {},
   "outputs": [],
   "source": [
    "################################################################\n",
    "## INSTALLS.\n",
    "################################################################\n",
    "## OBTENEMOS TODA LA INFORMACIÓN DE LOS DIFERENTES CSV.\n",
    "installs = pd.read_csv('../../installs.csv')\n",
    "## TRANSFORMACIÓN DE TIPOS PARA EL CSV (INSTALLS)\n",
    "installs['kind'] = installs['kind'].astype('category')\n",
    "installs['user_agent'] = installs['user_agent'].astype('category')\n",
    "installs['session_user_agent'] = installs['session_user_agent'].astype('category')\n",
    "installs['created'] = pd.to_datetime(installs['created'], infer_datetime_format=True)\n",
    "installs['trans_id'] = installs['trans_id'].astype('category')\n",
    "## DIFERENCIAMOS EN TRES COLUMNAS DIFERENTES EL DIA, MES Y AÑO.\n",
    "installs['mes'] = installs['created'].dt.month\n",
    "installs['dia'] = installs['created'].dt.day\n",
    "installs['hora'] = installs['created'].dt.hour\n",
    "# ARMAMOS UNA LÓGICA PARA SEGMENTAR LAS FRANJAS HORARIAS.\n",
    "# MADRUGADA de 00 a 06\n",
    "installs['hora_madrugada'] = 0\n",
    "installs.loc[((installs.hora > -1) & (installs.hora < 7)), 'hora_madrugada'] = 1\n",
    "# MAÑANA de 07 a 11\n",
    "installs['hora_maniana'] = 0\n",
    "installs.loc[((installs.hora > 6) & (installs.hora < 12)), 'hora_maniana'] = 1\n",
    "# ALMUERZO de 12 a 13\n",
    "installs['hora_almuerzo'] = 0\n",
    "installs.loc[((installs.hora > 11) & (installs.hora < 14)), 'hora_almuerzo'] = 1\n",
    "# TARDE de 14 a 18\n",
    "installs['hora_tarde'] = 0\n",
    "installs.loc[((installs.hora > 13) & (installs.hora < 19)), 'hora_tarde'] = 1\n",
    "# NOCHE de 19 a 23\n",
    "installs['hora_noche'] = 0\n",
    "installs.loc[((installs.hora > 18) & (installs.hora < 24)), 'hora_noche'] = 1\n",
    "################################################################\n",
    "################################################################"
   ]
  },
  {
   "cell_type": "code",
   "execution_count": 95,
   "metadata": {},
   "outputs": [],
   "source": [
    "installs['click_hash'].fillna(0, inplace = True)\n",
    "installs['device_brand'].fillna(0, inplace = True)\n",
    "installs['device_model'].fillna(0, inplace = True)\n",
    "installs['device_language'].fillna(0, inplace = True)\n",
    "del installs['event_uuid']"
   ]
  },
  {
   "cell_type": "code",
   "execution_count": 96,
   "metadata": {},
   "outputs": [],
   "source": [
    "##################### wifi\n",
    "installs['wifi_value'] = 2\n",
    "installs.loc[installs.wifi == False, 'wifi_value'] = 0\n",
    "installs.loc[installs.wifi == True, 'wifi_value'] = 1\n",
    "del installs['wifi']"
   ]
  },
  {
   "cell_type": "code",
   "execution_count": 97,
   "metadata": {},
   "outputs": [],
   "source": [
    "##################### attributed\n",
    "installs['attributed_value'] = 2\n",
    "installs.loc[installs.attributed == False, 'attributed_value'] = 0\n",
    "installs.loc[installs.attributed == True, 'attributed_value'] = 1\n",
    "del installs['attributed']"
   ]
  },
  {
   "cell_type": "code",
   "execution_count": 98,
   "metadata": {},
   "outputs": [],
   "source": [
    "##################### implicit\n",
    "installs['implicit_value'] = 2\n",
    "installs.loc[installs.implicit == False, 'implicit_value'] = 0\n",
    "installs.loc[installs.implicit == True, 'implicit_value'] = 1\n",
    "del installs['implicit']"
   ]
  },
  {
   "cell_type": "code",
   "execution_count": 99,
   "metadata": {},
   "outputs": [],
   "source": [
    "installs['click_hash'] = installs['click_hash'].astype('category')"
   ]
  },
  {
   "cell_type": "code",
   "execution_count": 100,
   "metadata": {},
   "outputs": [],
   "source": [
    "installs['session_user_agent_value'] = installs['session_user_agent'].cat.codes\n",
    "del installs['session_user_agent']"
   ]
  },
  {
   "cell_type": "code",
   "execution_count": 101,
   "metadata": {},
   "outputs": [],
   "source": [
    "installs.loc[installs.session_user_agent_value == -1, 'session_user_agent_value'] = 0"
   ]
  },
  {
   "cell_type": "code",
   "execution_count": 102,
   "metadata": {},
   "outputs": [],
   "source": [
    "##################### click_hash\n",
    "installs['click_hash_value'] = installs['click_hash'].cat.codes\n",
    "installs.loc[installs.click_hash_value == -1, 'click_hash_value'] = 0\n",
    "del installs['click_hash']"
   ]
  },
  {
   "cell_type": "code",
   "execution_count": 105,
   "metadata": {},
   "outputs": [],
   "source": [
    "##################### user_agent\n",
    "installs['user_agent_value'] = installs['user_agent'].cat.codes\n",
    "installs.loc[installs.user_agent_value == -1, 'user_agent_value'] = 0\n",
    "del installs['user_agent']"
   ]
  },
  {
   "cell_type": "code",
   "execution_count": 106,
   "metadata": {},
   "outputs": [],
   "source": [
    "##################### kind\n",
    "installs['kind_value'] = installs['kind'].cat.codes\n",
    "installs.loc[installs.kind_value == -1, 'kind_value'] = 0\n",
    "del installs['kind']"
   ]
  },
  {
   "cell_type": "code",
   "execution_count": 108,
   "metadata": {},
   "outputs": [],
   "source": [
    "##################### trans_id\n",
    "installs['trans_id_value'] = installs['trans_id'].cat.codes\n",
    "installs.loc[installs.trans_id_value == -1, 'trans_id_value'] = 0\n",
    "del installs['trans_id']"
   ]
  },
  {
   "cell_type": "code",
   "execution_count": 103,
   "metadata": {},
   "outputs": [],
   "source": [
    "del installs['created']"
   ]
  },
  {
   "cell_type": "code",
   "execution_count": 109,
   "metadata": {},
   "outputs": [
    {
     "name": "stdout",
     "output_type": "stream",
     "text": [
      "<class 'pandas.core.frame.DataFrame'>\n",
      "RangeIndex: 481511 entries, 0 to 481510\n",
      "Data columns (total 24 columns):\n",
      "application_id              481511 non-null int64\n",
      "ref_type                    481511 non-null int64\n",
      "ref_hash                    481511 non-null int64\n",
      "device_countrycode          481511 non-null int64\n",
      "device_brand                481511 non-null float64\n",
      "device_model                481511 non-null float64\n",
      "ip_address                  481511 non-null int64\n",
      "device_language             481511 non-null float64\n",
      "mes                         481511 non-null int64\n",
      "dia                         481511 non-null int64\n",
      "hora                        481511 non-null int64\n",
      "hora_madrugada              481511 non-null int64\n",
      "hora_maniana                481511 non-null int64\n",
      "hora_almuerzo               481511 non-null int64\n",
      "hora_tarde                  481511 non-null int64\n",
      "hora_noche                  481511 non-null int64\n",
      "wifi_value                  481511 non-null int64\n",
      "attributed_value            481511 non-null int64\n",
      "implicit_value              481511 non-null int64\n",
      "session_user_agent_value    481511 non-null int16\n",
      "click_hash_value            481511 non-null int16\n",
      "user_agent_value            481511 non-null int16\n",
      "kind_value                  481511 non-null int16\n",
      "trans_id_value              481511 non-null int16\n",
      "dtypes: float64(3), int16(5), int64(16)\n",
      "memory usage: 74.4 MB\n"
     ]
    }
   ],
   "source": [
    "installs.info()\n",
    "#user_agent            330768 non-null category\n",
    "#kind                  103168 non-null category\n",
    "#trans_id              8933 non-null category\n",
    "#click_hash            481511 non-null category"
   ]
  },
  {
   "cell_type": "code",
   "execution_count": 110,
   "metadata": {},
   "outputs": [],
   "source": [
    "################################################################\n",
    "## Ventana 1: Del 18 al 20\n",
    "## Ventana 2: Del 19 al 21\n",
    "## Ventana 3: Del 20 al 22\n",
    "## Ventana 4: Del 21 al 23\n",
    "## Ventana 5: Del 22 al 24\n",
    "################################################################\n",
    "installs_Ventana1 = installs[(installs['dia'] >= 18) & (installs['dia'] <= 20)]\n",
    "## installs_Ventana2 = installs[(installs['dia'] >= 19) & (installs['dia'] <= 21)]\n",
    "## installs_Ventana3 = installs[(installs['dia'] >= 20) & (installs['dia'] <= 22)]\n",
    "## installs_Ventana4 = installs[(installs['dia'] >= 21) & (installs['dia'] <= 23)]\n",
    "## installs_Ventana5 = installs[(installs['dia'] >= 22) & (installs['dia'] <= 24)]\n",
    "installs = \"\"\n",
    "################################################################"
   ]
  },
  {
   "cell_type": "code",
   "execution_count": 87,
   "metadata": {},
   "outputs": [],
   "source": [
    "################################################################\n",
    "## AUCTIONS.\n",
    "################################################################\n",
    "## OBTENEMOS TODA LA INFORMACIÓN DE LOS DIFERENTES CSV.\n",
    "auctions = pd.read_csv('../../auctions.csv',nrows=5000000)\n",
    "## TRANSFORMACIÓN DE TIPOS PARA EL CSV (AUCTIONS)\n",
    "auctions['date'] = pd.to_datetime(auctions['date'], infer_datetime_format=True)\n",
    "## DIFERENCIAMOS EN TRES COLUMNAS DIFERENTES EL DIA, MES Y AÑO.\n",
    "auctions['mes'] = auctions['date'].dt.month\n",
    "auctions['dia'] = auctions['date'].dt.day\n",
    "auctions['hora'] = auctions['date'].dt.hour\n",
    "# ARMAMOS UNA LÓGICA PARA SEGMENTAR LAS FRANJAS HORARIAS.\n",
    "# MADRUGADA de 00 a 06\n",
    "auctions['hora_madrugada'] = 0\n",
    "auctions.loc[((auctions.hora > -1) & (auctions.hora < 7)), 'hora_madrugada'] = 1\n",
    "# MAÑANA de 07 a 11\n",
    "auctions['hora_maniana'] = 0\n",
    "auctions.loc[((auctions.hora > 6) & (auctions.hora < 12)), 'hora_maniana'] = 1\n",
    "# ALMUERZO de 12 a 13\n",
    "auctions['hora_almuerzo'] = 0\n",
    "auctions.loc[((auctions.hora > 11) & (auctions.hora < 14)), 'hora_almuerzo'] = 1\n",
    "# TARDE de 14 a 18\n",
    "auctions['hora_tarde'] = 0\n",
    "auctions.loc[((auctions.hora > 13) & (auctions.hora < 19)), 'hora_tarde'] = 1\n",
    "# NOCHE de 19 a 23\n",
    "auctions['hora_noche'] = 0\n",
    "auctions.loc[((auctions.hora > 18) & (auctions.hora < 24)), 'hora_noche'] = 1\n",
    "################################################################\n",
    "################################################################"
   ]
  },
  {
   "cell_type": "code",
   "execution_count": 88,
   "metadata": {},
   "outputs": [],
   "source": [
    "##################### date\n",
    "del auctions['date']"
   ]
  },
  {
   "cell_type": "code",
   "execution_count": 89,
   "metadata": {},
   "outputs": [],
   "source": [
    "################################################################\n",
    "## Ventana 1: Del 18 al 20\n",
    "## Ventana 2: Del 19 al 21\n",
    "## Ventana 3: Del 20 al 22\n",
    "## Ventana 4: Del 21 al 23\n",
    "## Ventana 5: Del 22 al 24\n",
    "################################################################\n",
    "auctions_Ventana1 = auctions[(auctions['dia'] >= 18) & (auctions['dia'] <= 20)]\n",
    "## auctions_Ventana2 = auctions[(auctions['dia'] >= 19) & (auctions['dia'] <= 21)]\n",
    "## auctions_Ventana3 = auctions[(auctions['dia'] >= 20) & (auctions['dia'] <= 22)]\n",
    "## auctions_Ventana4 = auctions[(auctions['dia'] >= 21) & (auctions['dia'] <= 23)]\n",
    "## auctions_Ventana5 = auctions[(auctions['dia'] >= 22) & (auctions['dia'] <= 24)]\n",
    "auctions = \"\"\n",
    "################################################################"
   ]
  },
  {
   "cell_type": "code",
   "execution_count": 13,
   "metadata": {},
   "outputs": [],
   "source": [
    "################################################################\n",
    "## TARGET.\n",
    "################################################################\n",
    "## OBTENEMOS TODA LA INFORMACIÓN DE LOS DIFERENTES CSV.\n",
    "targets = pd.read_csv('../../target.csv')\n",
    "################################################################\n",
    "################################################################"
   ]
  },
  {
   "cell_type": "code",
   "execution_count": 8,
   "metadata": {},
   "outputs": [
    {
     "name": "stdout",
     "output_type": "stream",
     "text": [
      "<class 'pandas.core.frame.DataFrame'>\n",
      "Int64Index: 2553458 entries, 1417 to 7744580\n",
      "Data columns (total 31 columns):\n",
      "index                 int64\n",
      "date                  datetime64[ns]\n",
      "event_id              int64\n",
      "ref_type              int64\n",
      "ref_hash              int64\n",
      "application_id        int64\n",
      "attributed            bool\n",
      "device_countrycode    int64\n",
      "device_os_version     float64\n",
      "device_brand          float64\n",
      "device_model          float64\n",
      "device_city           float64\n",
      "session_user_agent    float64\n",
      "trans_id              category\n",
      "user_agent            float64\n",
      "event_uuid            object\n",
      "carrier               float64\n",
      "kind                  float64\n",
      "device_os             float64\n",
      "wifi                  bool\n",
      "connection_type       category\n",
      "ip_address            int64\n",
      "device_language       float64\n",
      "mes                   int64\n",
      "dia                   int64\n",
      "hora                  int64\n",
      "hora_madrugada        int64\n",
      "hora_maniana          int64\n",
      "hora_almuerzo         int64\n",
      "hora_tarde            int64\n",
      "hora_noche            int64\n",
      "dtypes: bool(2), category(2), datetime64[ns](1), float64(10), int64(15), object(1)\n",
      "memory usage: 558.1+ MB\n"
     ]
    }
   ],
   "source": [
    "events_Ventana1.info()"
   ]
  },
  {
   "cell_type": "code",
   "execution_count": 8,
   "metadata": {},
   "outputs": [
    {
     "name": "stdout",
     "output_type": "stream",
     "text": [
      "<class 'pandas.core.frame.DataFrame'>\n",
      "RangeIndex: 26351 entries, 0 to 26350\n",
      "Data columns (total 28 columns):\n",
      "advertiser_id      26351 non-null int64\n",
      "action_id          0 non-null float64\n",
      "source_id          26351 non-null int64\n",
      "created            26351 non-null datetime64[ns]\n",
      "country_code       26351 non-null int64\n",
      "latitude           26351 non-null float64\n",
      "longitude          26351 non-null float64\n",
      "wifi_connection    26351 non-null bool\n",
      "carrier_id         26340 non-null float64\n",
      "trans_id           26351 non-null object\n",
      "os_minor           26339 non-null float64\n",
      "agent_device       3243 non-null float64\n",
      "os_major           26339 non-null float64\n",
      "specs_brand        26351 non-null int64\n",
      "brand              6235 non-null float64\n",
      "timeToClick        22977 non-null float64\n",
      "touchX             23011 non-null float64\n",
      "touchY             23011 non-null float64\n",
      "ref_type           26351 non-null int64\n",
      "ref_hash           26351 non-null int64\n",
      "mes                26351 non-null int64\n",
      "dia                26351 non-null int64\n",
      "hora               26351 non-null int64\n",
      "hora_madrugada     26351 non-null int64\n",
      "hora_maniana       26351 non-null int64\n",
      "hora_almuerzo      26351 non-null int64\n",
      "hora_tarde         26351 non-null int64\n",
      "hora_noche         26351 non-null int64\n",
      "dtypes: bool(1), datetime64[ns](1), float64(11), int64(14), object(1)\n",
      "memory usage: 5.5+ MB\n"
     ]
    }
   ],
   "source": [
    "clicks_Ventana1.info()"
   ]
  },
  {
   "cell_type": "code",
   "execution_count": 9,
   "metadata": {},
   "outputs": [
    {
     "name": "stdout",
     "output_type": "stream",
     "text": [
      "<class 'pandas.core.frame.DataFrame'>\n",
      "RangeIndex: 3412 entries, 0 to 3411\n",
      "Data columns (total 26 columns):\n",
      "created               3412 non-null datetime64[ns]\n",
      "application_id        3412 non-null int64\n",
      "ref_type              3412 non-null int64\n",
      "ref_hash              3412 non-null int64\n",
      "click_hash            0 non-null float64\n",
      "attributed            3412 non-null bool\n",
      "implicit              3412 non-null bool\n",
      "device_countrycode    3412 non-null int64\n",
      "device_brand          1047 non-null float64\n",
      "device_model          3411 non-null float64\n",
      "session_user_agent    3364 non-null category\n",
      "user_agent            1729 non-null category\n",
      "event_uuid            865 non-null object\n",
      "kind                  865 non-null category\n",
      "wifi                  1729 non-null object\n",
      "trans_id              6 non-null category\n",
      "ip_address            3412 non-null int64\n",
      "device_language       3378 non-null float64\n",
      "mes                   3412 non-null int64\n",
      "dia                   3412 non-null int64\n",
      "hora                  3412 non-null int64\n",
      "hora_madrugada        3412 non-null int64\n",
      "hora_maniana          3412 non-null int64\n",
      "hora_almuerzo         3412 non-null int64\n",
      "hora_tarde            3412 non-null int64\n",
      "hora_noche            3412 non-null int64\n",
      "dtypes: bool(2), category(4), datetime64[ns](1), float64(4), int64(13), object(2)\n",
      "memory usage: 570.5+ KB\n"
     ]
    }
   ],
   "source": [
    "installs_Ventana1.info()"
   ]
  },
  {
   "cell_type": "code",
   "execution_count": 90,
   "metadata": {},
   "outputs": [
    {
     "name": "stdout",
     "output_type": "stream",
     "text": [
      "<class 'pandas.core.frame.DataFrame'>\n",
      "Int64Index: 1878239 entries, 221726 to 4997801\n",
      "Data columns (total 11 columns):\n",
      "device_id         int64\n",
      "ref_type_id       int64\n",
      "source_id         int64\n",
      "mes               int64\n",
      "dia               int64\n",
      "hora              int64\n",
      "hora_madrugada    int64\n",
      "hora_maniana      int64\n",
      "hora_almuerzo     int64\n",
      "hora_tarde        int64\n",
      "hora_noche        int64\n",
      "dtypes: int64(11)\n",
      "memory usage: 172.0 MB\n"
     ]
    }
   ],
   "source": [
    "auctions_Ventana1.info()"
   ]
  },
  {
   "cell_type": "code",
   "execution_count": 11,
   "metadata": {},
   "outputs": [
    {
     "name": "stdout",
     "output_type": "stream",
     "text": [
      "<class 'pandas.core.frame.DataFrame'>\n",
      "RangeIndex: 5930 entries, 0 to 5929\n",
      "Data columns (total 2 columns):\n",
      "ref_hash    5930 non-null object\n",
      "obj         5930 non-null int64\n",
      "dtypes: int64(1), object(1)\n",
      "memory usage: 92.7+ KB\n"
     ]
    }
   ],
   "source": [
    "targets.info()"
   ]
  },
  {
   "cell_type": "code",
   "execution_count": null,
   "metadata": {},
   "outputs": [],
   "source": []
  }
 ],
 "metadata": {
  "kernelspec": {
   "display_name": "Python 2",
   "language": "python",
   "name": "python2"
  },
  "language_info": {
   "codemirror_mode": {
    "name": "ipython",
    "version": 2
   },
   "file_extension": ".py",
   "mimetype": "text/x-python",
   "name": "python",
   "nbconvert_exporter": "python",
   "pygments_lexer": "ipython2",
   "version": "2.7.14"
  }
 },
 "nbformat": 4,
 "nbformat_minor": 2
}
