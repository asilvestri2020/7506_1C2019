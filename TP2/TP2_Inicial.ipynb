{
 "cells": [
  {
   "cell_type": "code",
   "execution_count": 1,
   "metadata": {},
   "outputs": [
    {
     "name": "stderr",
     "output_type": "stream",
     "text": [
      "/usr/local/lib/python2.7/dist-packages/sklearn/cross_validation.py:41: DeprecationWarning: This module was deprecated in version 0.18 in favor of the model_selection module into which all the refactored classes and functions are moved. Also note that the interface of the new CV iterators are different from that of this module. This module will be removed in 0.20.\n",
      "  \"This module will be removed in 0.20.\", DeprecationWarning)\n"
     ]
    }
   ],
   "source": [
    "## IMPORTACIÓN GENERAL DE LIBRERIAS Y VISUALIZACIÓN DE DATOS (matplotlib y seaborn)\n",
    "import pandas as pd\n",
    "import numpy as np\n",
    "import matplotlib.pyplot as plt\n",
    "import seaborn as sns\n",
    "import datetime as DT\n",
    "import warnings\n",
    "from sklearn.ensemble import RandomForestClassifier\n",
    "from sklearn import metrics\n",
    "from sklearn.cross_validation import train_test_split\n",
    "import xgboost as xgb\n",
    "\n",
    "%matplotlib inline\n",
    "warnings.filterwarnings('ignore')\n",
    "plt.style.use('default') \n",
    "sns.set(style=\"whitegrid\") \n",
    "plt.rcParams['figure.figsize'] = (15, 10)\n",
    "pd.set_option('display.max_columns', 1000)\n",
    "np.set_printoptions(threshold=np.nan)"
   ]
  },
  {
   "cell_type": "code",
   "execution_count": 2,
   "metadata": {},
   "outputs": [],
   "source": [
    "################################################################\n",
    "## EVENTS.\n",
    "################################################################\n",
    "## OBTENEMOS TODA LA INFORMACIÓN DE LOS DIFERENTES CSV.\n",
    "events = pd.read_csv('../../events.csv')\n",
    "## TRANSFORMACIÓN DE TIPOS PARA EL CSV (EVENTS)\n",
    "events['wifi'] = events['wifi'].fillna(False).astype(bool)\n",
    "events['connection_type'] = events['connection_type'].astype('category')\n",
    "events['trans_id'] = events['trans_id'].astype('category')\n",
    "events['date'] = pd.to_datetime(events['date'], infer_datetime_format=True)\n",
    "## DIFERENCIAMOS EN TRES COLUMNAS DIFERENTES EL DIA, MES Y AÑO.\n",
    "events['mes'] = events['date'].dt.month\n",
    "events['dia'] = events['date'].dt.day\n",
    "events['hora'] = events['date'].dt.hour\n",
    "# ARMAMOS UNA LÓGICA PARA SEGMENTAR LAS FRANJAS HORARIAS.\n",
    "# MADRUGADA de 00 a 06\n",
    "events['hora_madrugada'] = 0\n",
    "events.loc[((events.hora > -1) & (events.hora < 7)), 'hora_madrugada'] = 1\n",
    "# MAÑANA de 07 a 11\n",
    "events['hora_maniana'] = 0\n",
    "events.loc[((events.hora > 6) & (events.hora < 12)), 'hora_maniana'] = 1\n",
    "# ALMUERZO de 12 a 13\n",
    "events['hora_almuerzo'] = 0\n",
    "events.loc[((events.hora > 11) & (events.hora < 14)), 'hora_almuerzo'] = 1\n",
    "# TARDE de 14 a 18\n",
    "events['hora_tarde'] = 0\n",
    "events.loc[((events.hora > 13) & (events.hora < 19)), 'hora_tarde'] = 1\n",
    "# NOCHE de 19 a 23\n",
    "events['hora_noche'] = 0\n",
    "events.loc[((events.hora > 18) & (events.hora < 24)), 'hora_noche'] = 1\n",
    "################################################################\n",
    "################################################################"
   ]
  },
  {
   "cell_type": "code",
   "execution_count": 3,
   "metadata": {},
   "outputs": [],
   "source": [
    "##################### connection_type\n",
    "dummies = pd.get_dummies(events['connection_type'], drop_first=False)\n",
    "events = pd.concat([events, dummies], axis=1)\n",
    "del events['connection_type']"
   ]
  },
  {
   "cell_type": "code",
   "execution_count": 4,
   "metadata": {},
   "outputs": [],
   "source": [
    "##################### event_uuid\n",
    "del events['event_uuid']"
   ]
  },
  {
   "cell_type": "code",
   "execution_count": 5,
   "metadata": {},
   "outputs": [],
   "source": [
    "##################### date\n",
    "del events['date']"
   ]
  },
  {
   "cell_type": "code",
   "execution_count": 6,
   "metadata": {},
   "outputs": [],
   "source": [
    "##################### wifi\n",
    "events['wifi_value'] = 2\n",
    "events.loc[events.wifi == False, 'wifi_value'] = 0\n",
    "events.loc[events.wifi == True, 'wifi_value'] = 1\n",
    "del events['wifi']"
   ]
  },
  {
   "cell_type": "code",
   "execution_count": 7,
   "metadata": {},
   "outputs": [],
   "source": [
    "##################### attributed\n",
    "events['attributed_value'] = 2\n",
    "events.loc[events.attributed == False, 'attributed_value'] = 0\n",
    "events.loc[events.attributed == True, 'attributed_value'] = 1\n",
    "del events['attributed']"
   ]
  },
  {
   "cell_type": "code",
   "execution_count": 15,
   "metadata": {},
   "outputs": [],
   "source": [
    "##################### trans_id\n",
    "events['trans_id_value'] = events['trans_id'].cat.codes\n",
    "events.loc[events.trans_id_value == -1, 'trans_id_value'] = 0\n",
    "del events['trans_id']"
   ]
  },
  {
   "cell_type": "code",
   "execution_count": 18,
   "metadata": {},
   "outputs": [
    {
     "name": "stdout",
     "output_type": "stream",
     "text": [
      "<class 'pandas.core.frame.DataFrame'>\n",
      "RangeIndex: 7744581 entries, 0 to 7744580\n",
      "Data columns (total 32 columns):\n",
      "index                 int64\n",
      "event_id              int64\n",
      "ref_type              int64\n",
      "ref_hash              int64\n",
      "application_id        int64\n",
      "device_countrycode    int64\n",
      "device_os_version     float64\n",
      "device_brand          float64\n",
      "device_model          float64\n",
      "device_city           float64\n",
      "session_user_agent    float64\n",
      "user_agent            float64\n",
      "carrier               float64\n",
      "kind                  float64\n",
      "device_os             float64\n",
      "ip_address            int64\n",
      "device_language       float64\n",
      "mes                   int64\n",
      "dia                   int64\n",
      "hora                  int64\n",
      "hora_madrugada        int64\n",
      "hora_maniana          int64\n",
      "hora_almuerzo         int64\n",
      "hora_tarde            int64\n",
      "hora_noche            int64\n",
      "Cable/DSL             uint8\n",
      "Cellular              uint8\n",
      "Corporate             uint8\n",
      "Dialup                uint8\n",
      "wifi_value            int64\n",
      "attributed_value      int64\n",
      "trans_id_value        int16\n",
      "dtypes: float64(10), int16(1), int64(17), uint8(4)\n",
      "memory usage: 1.6 GB\n"
     ]
    }
   ],
   "source": [
    "# trans_id category\n",
    "# events['ref_hash'].value_counts()\n",
    "events.info()"
   ]
  },
  {
   "cell_type": "code",
   "execution_count": 19,
   "metadata": {},
   "outputs": [],
   "source": [
    "################################################################\n",
    "## Ventana 1: Del 18 al 20\n",
    "## Ventana 2: Del 19 al 21\n",
    "## Ventana 3: Del 20 al 22\n",
    "## Ventana 4: Del 21 al 23\n",
    "## Ventana 5: Del 22 al 24\n",
    "################################################################\n",
    "events_Ventana1 = events[(events['dia'] >= 18) & (events['dia'] <= 20)]\n",
    "## events_Ventana2 = events[(events['dia'] >= 19) & (events['dia'] <= 21)]\n",
    "## events_Ventana3 = events[(events['dia'] >= 20) & (events['dia'] <= 22)]\n",
    "## events_Ventana4 = events[(events['dia'] >= 21) & (events['dia'] <= 23)]\n",
    "## events_Ventana5 = events[(events['dia'] >= 22) & (events['dia'] <= 24)]\n",
    "events = \"\"\n",
    "################################################################"
   ]
  },
  {
   "cell_type": "code",
   "execution_count": 35,
   "metadata": {},
   "outputs": [],
   "source": [
    "################################################################\n",
    "## CLICKS.\n",
    "################################################################\n",
    "## OBTENEMOS TODA LA INFORMACIÓN DE LOS DIFERENTES CSV.\n",
    "clicks = pd.read_csv('../../clicks.csv')\n",
    "## TRANSFORMACIÓN DE TIPOS PARA EL CSV (CLICKS)\n",
    "clicks['created'] = pd.to_datetime(clicks['created'], infer_datetime_format=True)\n",
    "## DIFERENCIAMOS EN TRES COLUMNAS DIFERENTES EL DIA, MES Y AÑO.\n",
    "clicks['mes'] = clicks['created'].dt.month\n",
    "clicks['dia'] = clicks['created'].dt.day\n",
    "clicks['hora'] = clicks['created'].dt.hour\n",
    "# ARMAMOS UNA LÓGICA PARA SEGMENTAR LAS FRANJAS HORARIAS.\n",
    "# MADRUGADA de 00 a 06\n",
    "clicks['hora_madrugada'] = 0\n",
    "clicks.loc[((clicks.hora > -1) & (clicks.hora < 7)), 'hora_madrugada'] = 1\n",
    "# MAÑANA de 07 a 11\n",
    "clicks['hora_maniana'] = 0\n",
    "clicks.loc[((clicks.hora > 6) & (clicks.hora < 12)), 'hora_maniana'] = 1\n",
    "# ALMUERZO de 12 a 13\n",
    "clicks['hora_almuerzo'] = 0\n",
    "clicks.loc[((clicks.hora > 11) & (clicks.hora < 14)), 'hora_almuerzo'] = 1\n",
    "# TARDE de 14 a 18\n",
    "clicks['hora_tarde'] = 0\n",
    "clicks.loc[((clicks.hora > 13) & (clicks.hora < 19)), 'hora_tarde'] = 1\n",
    "# NOCHE de 19 a 23\n",
    "clicks['hora_noche'] = 0\n",
    "clicks.loc[((clicks.hora > 18) & (clicks.hora < 24)), 'hora_noche'] = 1\n",
    "################################################################\n",
    "################################################################"
   ]
  },
  {
   "cell_type": "code",
   "execution_count": 37,
   "metadata": {},
   "outputs": [],
   "source": [
    "clicks.fillna(0, inplace = True)\n",
    "clicks['trans_id'] = clicks['trans_id'].astype('category')"
   ]
  },
  {
   "cell_type": "code",
   "execution_count": 40,
   "metadata": {},
   "outputs": [],
   "source": [
    "##################### date\n",
    "del clicks['created']"
   ]
  },
  {
   "cell_type": "code",
   "execution_count": 42,
   "metadata": {},
   "outputs": [],
   "source": [
    "##################### wifi_connection\n",
    "clicks['wifi_connection'] = 2\n",
    "clicks.loc[clicks.wifi_connection == False, 'wifi_value'] = 0\n",
    "clicks.loc[clicks.wifi_connection == True, 'wifi_value'] = 1\n",
    "del clicks['wifi_connection']"
   ]
  },
  {
   "cell_type": "code",
   "execution_count": 43,
   "metadata": {},
   "outputs": [],
   "source": [
    "##################### trans_id\n",
    "clicks['trans_id_value'] = clicks['trans_id'].cat.codes\n",
    "clicks.loc[clicks.trans_id_value == -1, 'trans_id_value'] = 0\n",
    "del clicks['trans_id']"
   ]
  },
  {
   "cell_type": "code",
   "execution_count": 46,
   "metadata": {},
   "outputs": [],
   "source": [
    "clicks.loc[clicks.touchX == 'Infinity', 'touchX'] = 2\n",
    "clicks.loc[clicks.touchY == 'Infinity', 'touchY'] = 2"
   ]
  },
  {
   "cell_type": "code",
   "execution_count": 48,
   "metadata": {},
   "outputs": [],
   "source": [
    "clicks['touchX'] = clicks['touchX'].astype(float).fillna(0.0)\n",
    "clicks['touchY'] = clicks['touchY'].astype(float).fillna(0.0)"
   ]
  },
  {
   "cell_type": "code",
   "execution_count": 49,
   "metadata": {},
   "outputs": [
    {
     "name": "stdout",
     "output_type": "stream",
     "text": [
      "<class 'pandas.core.frame.DataFrame'>\n",
      "RangeIndex: 64296 entries, 0 to 64295\n",
      "Data columns (total 27 columns):\n",
      "advertiser_id     64296 non-null int64\n",
      "action_id         64296 non-null float64\n",
      "source_id         64296 non-null int64\n",
      "country_code      64296 non-null int64\n",
      "latitude          64296 non-null float64\n",
      "longitude         64296 non-null float64\n",
      "carrier_id        64296 non-null float64\n",
      "os_minor          64296 non-null float64\n",
      "agent_device      64296 non-null float64\n",
      "os_major          64296 non-null float64\n",
      "specs_brand       64296 non-null int64\n",
      "brand             64296 non-null float64\n",
      "timeToClick       64296 non-null float64\n",
      "touchX            64296 non-null float64\n",
      "touchY            64296 non-null float64\n",
      "ref_type          64296 non-null int64\n",
      "ref_hash          64296 non-null int64\n",
      "mes               64296 non-null int64\n",
      "dia               64296 non-null int64\n",
      "hora              64296 non-null int64\n",
      "hora_madrugada    64296 non-null int64\n",
      "hora_maniana      64296 non-null int64\n",
      "hora_almuerzo     64296 non-null int64\n",
      "hora_tarde        64296 non-null int64\n",
      "hora_noche        64296 non-null int64\n",
      "wifi_value        0 non-null float64\n",
      "trans_id_value    64296 non-null int32\n",
      "dtypes: float64(12), int32(1), int64(14)\n",
      "memory usage: 13.0 MB\n"
     ]
    }
   ],
   "source": [
    "clicks.info()"
   ]
  },
  {
   "cell_type": "code",
   "execution_count": 50,
   "metadata": {},
   "outputs": [],
   "source": [
    "################################################################\n",
    "## Ventana 1: Del 18 al 20\n",
    "## Ventana 2: Del 19 al 21\n",
    "## Ventana 3: Del 20 al 22\n",
    "## Ventana 4: Del 21 al 23\n",
    "## Ventana 5: Del 22 al 24\n",
    "################################################################\n",
    "clicks_Ventana1 = clicks[(clicks['dia'] >= 18) & (clicks['dia'] <= 20)]\n",
    "## clicks_Ventana2 = clicks[(clicks['dia'] >= 19) & (clicks['dia'] <= 21)]\n",
    "## clicks_Ventana3 = clicks[(clicks['dia'] >= 20) & (clicks['dia'] <= 22)]\n",
    "## clicks_Ventana4 = clicks[(clicks['dia'] >= 21) & (clicks['dia'] <= 23)]\n",
    "## clicks_Ventana5 = clicks[(clicks['dia'] >= 22) & (clicks['dia'] <= 24)]\n",
    "clicks = \"\"\n",
    "################################################################"
   ]
  },
  {
   "cell_type": "code",
   "execution_count": 63,
   "metadata": {},
   "outputs": [],
   "source": [
    "################################################################\n",
    "## INSTALLS.\n",
    "################################################################\n",
    "## OBTENEMOS TODA LA INFORMACIÓN DE LOS DIFERENTES CSV.\n",
    "installs = pd.read_csv('../../installs.csv')\n",
    "## TRANSFORMACIÓN DE TIPOS PARA EL CSV (INSTALLS)\n",
    "installs['kind'] = installs['kind'].astype('category')\n",
    "installs['user_agent'] = installs['user_agent'].astype('category')\n",
    "installs['session_user_agent'] = installs['session_user_agent'].astype('category')\n",
    "installs['created'] = pd.to_datetime(installs['created'], infer_datetime_format=True)\n",
    "installs['trans_id'] = installs['trans_id'].astype('category')\n",
    "## DIFERENCIAMOS EN TRES COLUMNAS DIFERENTES EL DIA, MES Y AÑO.\n",
    "installs['mes'] = installs['created'].dt.month\n",
    "installs['dia'] = installs['created'].dt.day\n",
    "installs['hora'] = installs['created'].dt.hour\n",
    "# ARMAMOS UNA LÓGICA PARA SEGMENTAR LAS FRANJAS HORARIAS.\n",
    "# MADRUGADA de 00 a 06\n",
    "installs['hora_madrugada'] = 0\n",
    "installs.loc[((installs.hora > -1) & (installs.hora < 7)), 'hora_madrugada'] = 1\n",
    "# MAÑANA de 07 a 11\n",
    "installs['hora_maniana'] = 0\n",
    "installs.loc[((installs.hora > 6) & (installs.hora < 12)), 'hora_maniana'] = 1\n",
    "# ALMUERZO de 12 a 13\n",
    "installs['hora_almuerzo'] = 0\n",
    "installs.loc[((installs.hora > 11) & (installs.hora < 14)), 'hora_almuerzo'] = 1\n",
    "# TARDE de 14 a 18\n",
    "installs['hora_tarde'] = 0\n",
    "installs.loc[((installs.hora > 13) & (installs.hora < 19)), 'hora_tarde'] = 1\n",
    "# NOCHE de 19 a 23\n",
    "installs['hora_noche'] = 0\n",
    "installs.loc[((installs.hora > 18) & (installs.hora < 24)), 'hora_noche'] = 1\n",
    "################################################################\n",
    "################################################################"
   ]
  },
  {
   "cell_type": "code",
   "execution_count": 64,
   "metadata": {},
   "outputs": [],
   "source": [
    "installs['click_hash'].fillna(0, inplace = True)\n",
    "installs['device_brand'].fillna(0, inplace = True)\n",
    "installs['device_model'].fillna(0, inplace = True)\n",
    "installs['device_language'].fillna(0, inplace = True)\n",
    "del installs['event_uuid']"
   ]
  },
  {
   "cell_type": "code",
   "execution_count": 67,
   "metadata": {},
   "outputs": [],
   "source": [
    "##################### wifi\n",
    "installs['wifi_value'] = 2\n",
    "installs.loc[installs.wifi == False, 'wifi_value'] = 0\n",
    "installs.loc[installs.wifi == True, 'wifi_value'] = 1\n",
    "del installs['wifi']"
   ]
  },
  {
   "cell_type": "code",
   "execution_count": 71,
   "metadata": {},
   "outputs": [],
   "source": [
    "##################### attributed\n",
    "installs['attributed_value'] = 2\n",
    "installs.loc[installs.attributed == False, 'attributed_value'] = 0\n",
    "installs.loc[installs.attributed == True, 'attributed_value'] = 1\n",
    "del installs['attributed']"
   ]
  },
  {
   "cell_type": "code",
   "execution_count": 72,
   "metadata": {},
   "outputs": [],
   "source": [
    "##################### implicit\n",
    "installs['implicit_value'] = 2\n",
    "installs.loc[installs.implicit == False, 'implicit_value'] = 0\n",
    "installs.loc[installs.implicit == True, 'implicit_value'] = 1\n",
    "del installs['implicit']"
   ]
  },
  {
   "cell_type": "code",
   "execution_count": 69,
   "metadata": {},
   "outputs": [],
   "source": [
    "installs['click_hash'] = installs['click_hash'].astype('category')"
   ]
  },
  {
   "cell_type": "code",
   "execution_count": 75,
   "metadata": {},
   "outputs": [],
   "source": [
    "installs['session_user_agent_value'] = installs['session_user_agent'].cat.codes\n",
    "del installs['session_user_agent']"
   ]
  },
  {
   "cell_type": "code",
   "execution_count": 79,
   "metadata": {},
   "outputs": [
    {
     "data": {
      "text/plain": [
       "4530    335311\n",
       "4528     75354\n",
       "6        15193\n",
       "0        14840\n",
       "2478      9204\n",
       "4431      2018\n",
       "11        2015\n",
       "839        681\n",
       "4422       504\n",
       "1743       426\n",
       "2210       307\n",
       "4357       301\n",
       "558        299\n",
       "2117       285\n",
       "851        281\n",
       "2057       254\n",
       "1984       248\n",
       "878        228\n",
       "2112       216\n",
       "1933       212\n",
       "1566       184\n",
       "2027       171\n",
       "1895       164\n",
       "1894       158\n",
       "1790       155\n",
       "2240       146\n",
       "2175       145\n",
       "1749       140\n",
       "1321       139\n",
       "391        134\n",
       "         ...  \n",
       "356          1\n",
       "4198         1\n",
       "100          1\n",
       "3003         1\n",
       "3259         1\n",
       "3515         1\n",
       "1379         1\n",
       "3426         1\n",
       "1123         1\n",
       "1380         1\n",
       "442          1\n",
       "4536         1\n",
       "2660         1\n",
       "1381         1\n",
       "3000         1\n",
       "953          1\n",
       "3172         1\n",
       "3256         1\n",
       "2916         1\n",
       "1209         1\n",
       "4455         1\n",
       "3685         1\n",
       "3512         1\n",
       "3768         1\n",
       "4199         1\n",
       "101          1\n",
       "2148         1\n",
       "4024         1\n",
       "4280         1\n",
       "4220         1\n",
       "Name: session_user_agent_value, Length: 4537, dtype: int64"
      ]
     },
     "execution_count": 79,
     "metadata": {},
     "output_type": "execute_result"
    }
   ],
   "source": [
    "installs.loc[installs.session_user_agent_value == -1, 'session_user_agent_value'] = 0"
   ]
  },
  {
   "cell_type": "code",
   "execution_count": 86,
   "metadata": {},
   "outputs": [
    {
     "ename": "TypeError",
     "evalue": "string indices must be integers, not str",
     "output_type": "error",
     "traceback": [
      "\u001b[0;31m---------------------------------------------------------------------------\u001b[0m",
      "\u001b[0;31mTypeError\u001b[0m                                 Traceback (most recent call last)",
      "\u001b[0;32m<ipython-input-86-18779572840f>\u001b[0m in \u001b[0;36m<module>\u001b[0;34m()\u001b[0m\n\u001b[1;32m      1\u001b[0m \u001b[0;31m##################### click_hash\u001b[0m\u001b[0;34m\u001b[0m\u001b[0;34m\u001b[0m\u001b[0m\n\u001b[0;32m----> 2\u001b[0;31m \u001b[0minstalls\u001b[0m\u001b[0;34m[\u001b[0m\u001b[0;34m'click_hash_values'\u001b[0m\u001b[0;34m]\u001b[0m \u001b[0;34m=\u001b[0m \u001b[0mclicks\u001b[0m\u001b[0;34m[\u001b[0m\u001b[0;34m'click_hash'\u001b[0m\u001b[0;34m]\u001b[0m\u001b[0;34m.\u001b[0m\u001b[0mcat\u001b[0m\u001b[0;34m.\u001b[0m\u001b[0mcodes\u001b[0m\u001b[0;34m\u001b[0m\u001b[0m\n\u001b[0m\u001b[1;32m      3\u001b[0m \u001b[0minstalls\u001b[0m\u001b[0;34m.\u001b[0m\u001b[0mloc\u001b[0m\u001b[0;34m[\u001b[0m\u001b[0minstalls\u001b[0m\u001b[0;34m.\u001b[0m\u001b[0mclick_hash_value\u001b[0m \u001b[0;34m==\u001b[0m \u001b[0;34m-\u001b[0m\u001b[0;36m1\u001b[0m\u001b[0;34m,\u001b[0m \u001b[0;34m'click_hash_value'\u001b[0m\u001b[0;34m]\u001b[0m \u001b[0;34m=\u001b[0m \u001b[0;36m0\u001b[0m\u001b[0;34m\u001b[0m\u001b[0m\n\u001b[1;32m      4\u001b[0m \u001b[0;32mdel\u001b[0m \u001b[0minstalls\u001b[0m\u001b[0;34m[\u001b[0m\u001b[0;34m'click_hash'\u001b[0m\u001b[0;34m]\u001b[0m\u001b[0;34m\u001b[0m\u001b[0m\n",
      "\u001b[0;31mTypeError\u001b[0m: string indices must be integers, not str"
     ]
    }
   ],
   "source": [
    "##################### click_hash\n",
    "installs['click_hash_values'] = clicks['click_hash'].cat.codes\n",
    "installs.loc[installs.click_hash_value == -1, 'click_hash_value'] = 0\n",
    "del installs['click_hash']"
   ]
  },
  {
   "cell_type": "code",
   "execution_count": 76,
   "metadata": {},
   "outputs": [
    {
     "name": "stdout",
     "output_type": "stream",
     "text": [
      "<class 'pandas.core.frame.DataFrame'>\n",
      "RangeIndex: 481511 entries, 0 to 481510\n",
      "Data columns (total 25 columns):\n",
      "created                     481511 non-null datetime64[ns]\n",
      "application_id              481511 non-null int64\n",
      "ref_type                    481511 non-null int64\n",
      "ref_hash                    481511 non-null int64\n",
      "click_hash                  481511 non-null category\n",
      "device_countrycode          481511 non-null int64\n",
      "device_brand                481511 non-null float64\n",
      "device_model                481511 non-null float64\n",
      "user_agent                  330768 non-null category\n",
      "kind                        103168 non-null category\n",
      "trans_id                    8933 non-null category\n",
      "ip_address                  481511 non-null int64\n",
      "device_language             481511 non-null float64\n",
      "mes                         481511 non-null int64\n",
      "dia                         481511 non-null int64\n",
      "hora                        481511 non-null int64\n",
      "hora_madrugada              481511 non-null int64\n",
      "hora_maniana                481511 non-null int64\n",
      "hora_almuerzo               481511 non-null int64\n",
      "hora_tarde                  481511 non-null int64\n",
      "hora_noche                  481511 non-null int64\n",
      "wifi_value                  481511 non-null int64\n",
      "attributed_value            481511 non-null int64\n",
      "implicit_value              481511 non-null int64\n",
      "session_user_agent_value    481511 non-null int16\n",
      "dtypes: category(4), datetime64[ns](1), float64(3), int16(1), int64(16)\n",
      "memory usage: 79.0 MB\n"
     ]
    }
   ],
   "source": [
    "installs.info()\n",
    "#user_agent            330768 non-null category\n",
    "#kind                  103168 non-null category\n",
    "#trans_id              8933 non-null category\n",
    "#click_hash            481511 non-null category"
   ]
  },
  {
   "cell_type": "code",
   "execution_count": 18,
   "metadata": {},
   "outputs": [],
   "source": [
    "################################################################\n",
    "## Ventana 1: Del 18 al 20\n",
    "## Ventana 2: Del 19 al 21\n",
    "## Ventana 3: Del 20 al 22\n",
    "## Ventana 4: Del 21 al 23\n",
    "## Ventana 5: Del 22 al 24\n",
    "################################################################\n",
    "installs_Ventana1 = installs[(installs['dia'] >= 18) & (installs['dia'] <= 20)]\n",
    "## installs_Ventana2 = installs[(installs['dia'] >= 19) & (installs['dia'] <= 21)]\n",
    "## installs_Ventana3 = installs[(installs['dia'] >= 20) & (installs['dia'] <= 22)]\n",
    "## installs_Ventana4 = installs[(installs['dia'] >= 21) & (installs['dia'] <= 23)]\n",
    "## installs_Ventana5 = installs[(installs['dia'] >= 22) & (installs['dia'] <= 24)]\n",
    "installs = \"\"\n",
    "################################################################"
   ]
  },
  {
   "cell_type": "code",
   "execution_count": 5,
   "metadata": {},
   "outputs": [],
   "source": [
    "################################################################\n",
    "## AUCTIONS.\n",
    "################################################################\n",
    "## OBTENEMOS TODA LA INFORMACIÓN DE LOS DIFERENTES CSV.\n",
    "auctions = pd.read_csv('../../auctions.csv',nrows=5000000)\n",
    "## TRANSFORMACIÓN DE TIPOS PARA EL CSV (AUCTIONS)\n",
    "auctions['date'] = pd.to_datetime(auctions['date'], infer_datetime_format=True)\n",
    "## DIFERENCIAMOS EN TRES COLUMNAS DIFERENTES EL DIA, MES Y AÑO.\n",
    "auctions['mes'] = auctions['date'].dt.month\n",
    "auctions['dia'] = auctions['date'].dt.day\n",
    "auctions['hora'] = auctions['date'].dt.hour\n",
    "# ARMAMOS UNA LÓGICA PARA SEGMENTAR LAS FRANJAS HORARIAS.\n",
    "# MADRUGADA de 00 a 06\n",
    "auctions['hora_madrugada'] = 0\n",
    "auctions.loc[((auctions.hora > -1) & (auctions.hora < 7)), 'hora_madrugada'] = 1\n",
    "# MAÑANA de 07 a 11\n",
    "auctions['hora_maniana'] = 0\n",
    "auctions.loc[((auctions.hora > 6) & (auctions.hora < 12)), 'hora_maniana'] = 1\n",
    "# ALMUERZO de 12 a 13\n",
    "auctions['hora_almuerzo'] = 0\n",
    "auctions.loc[((auctions.hora > 11) & (auctions.hora < 14)), 'hora_almuerzo'] = 1\n",
    "# TARDE de 14 a 18\n",
    "auctions['hora_tarde'] = 0\n",
    "auctions.loc[((auctions.hora > 13) & (auctions.hora < 19)), 'hora_tarde'] = 1\n",
    "# NOCHE de 19 a 23\n",
    "auctions['hora_noche'] = 0\n",
    "auctions.loc[((auctions.hora > 18) & (auctions.hora < 24)), 'hora_noche'] = 1\n",
    "################################################################\n",
    "################################################################"
   ]
  },
  {
   "cell_type": "code",
   "execution_count": 19,
   "metadata": {},
   "outputs": [],
   "source": [
    "################################################################\n",
    "## Ventana 1: Del 18 al 20\n",
    "## Ventana 2: Del 19 al 21\n",
    "## Ventana 3: Del 20 al 22\n",
    "## Ventana 4: Del 21 al 23\n",
    "## Ventana 5: Del 22 al 24\n",
    "################################################################\n",
    "auctions_Ventana1 = auctions[(auctions['dia'] >= 18) & (auctions['dia'] <= 20)]\n",
    "## auctions_Ventana2 = auctions[(auctions['dia'] >= 19) & (auctions['dia'] <= 21)]\n",
    "## auctions_Ventana3 = auctions[(auctions['dia'] >= 20) & (auctions['dia'] <= 22)]\n",
    "## auctions_Ventana4 = auctions[(auctions['dia'] >= 21) & (auctions['dia'] <= 23)]\n",
    "## auctions_Ventana5 = auctions[(auctions['dia'] >= 22) & (auctions['dia'] <= 24)]\n",
    "auctions = \"\"\n",
    "################################################################"
   ]
  },
  {
   "cell_type": "code",
   "execution_count": 13,
   "metadata": {},
   "outputs": [],
   "source": [
    "################################################################\n",
    "## TARGET.\n",
    "################################################################\n",
    "## OBTENEMOS TODA LA INFORMACIÓN DE LOS DIFERENTES CSV.\n",
    "targets = pd.read_csv('../../target.csv')\n",
    "################################################################\n",
    "################################################################"
   ]
  },
  {
   "cell_type": "code",
   "execution_count": 8,
   "metadata": {},
   "outputs": [
    {
     "name": "stdout",
     "output_type": "stream",
     "text": [
      "<class 'pandas.core.frame.DataFrame'>\n",
      "Int64Index: 2553458 entries, 1417 to 7744580\n",
      "Data columns (total 31 columns):\n",
      "index                 int64\n",
      "date                  datetime64[ns]\n",
      "event_id              int64\n",
      "ref_type              int64\n",
      "ref_hash              int64\n",
      "application_id        int64\n",
      "attributed            bool\n",
      "device_countrycode    int64\n",
      "device_os_version     float64\n",
      "device_brand          float64\n",
      "device_model          float64\n",
      "device_city           float64\n",
      "session_user_agent    float64\n",
      "trans_id              category\n",
      "user_agent            float64\n",
      "event_uuid            object\n",
      "carrier               float64\n",
      "kind                  float64\n",
      "device_os             float64\n",
      "wifi                  bool\n",
      "connection_type       category\n",
      "ip_address            int64\n",
      "device_language       float64\n",
      "mes                   int64\n",
      "dia                   int64\n",
      "hora                  int64\n",
      "hora_madrugada        int64\n",
      "hora_maniana          int64\n",
      "hora_almuerzo         int64\n",
      "hora_tarde            int64\n",
      "hora_noche            int64\n",
      "dtypes: bool(2), category(2), datetime64[ns](1), float64(10), int64(15), object(1)\n",
      "memory usage: 558.1+ MB\n"
     ]
    }
   ],
   "source": [
    "events_Ventana1.info()"
   ]
  },
  {
   "cell_type": "code",
   "execution_count": 8,
   "metadata": {},
   "outputs": [
    {
     "name": "stdout",
     "output_type": "stream",
     "text": [
      "<class 'pandas.core.frame.DataFrame'>\n",
      "RangeIndex: 26351 entries, 0 to 26350\n",
      "Data columns (total 28 columns):\n",
      "advertiser_id      26351 non-null int64\n",
      "action_id          0 non-null float64\n",
      "source_id          26351 non-null int64\n",
      "created            26351 non-null datetime64[ns]\n",
      "country_code       26351 non-null int64\n",
      "latitude           26351 non-null float64\n",
      "longitude          26351 non-null float64\n",
      "wifi_connection    26351 non-null bool\n",
      "carrier_id         26340 non-null float64\n",
      "trans_id           26351 non-null object\n",
      "os_minor           26339 non-null float64\n",
      "agent_device       3243 non-null float64\n",
      "os_major           26339 non-null float64\n",
      "specs_brand        26351 non-null int64\n",
      "brand              6235 non-null float64\n",
      "timeToClick        22977 non-null float64\n",
      "touchX             23011 non-null float64\n",
      "touchY             23011 non-null float64\n",
      "ref_type           26351 non-null int64\n",
      "ref_hash           26351 non-null int64\n",
      "mes                26351 non-null int64\n",
      "dia                26351 non-null int64\n",
      "hora               26351 non-null int64\n",
      "hora_madrugada     26351 non-null int64\n",
      "hora_maniana       26351 non-null int64\n",
      "hora_almuerzo      26351 non-null int64\n",
      "hora_tarde         26351 non-null int64\n",
      "hora_noche         26351 non-null int64\n",
      "dtypes: bool(1), datetime64[ns](1), float64(11), int64(14), object(1)\n",
      "memory usage: 5.5+ MB\n"
     ]
    }
   ],
   "source": [
    "clicks_Ventana1.info()"
   ]
  },
  {
   "cell_type": "code",
   "execution_count": 9,
   "metadata": {},
   "outputs": [
    {
     "name": "stdout",
     "output_type": "stream",
     "text": [
      "<class 'pandas.core.frame.DataFrame'>\n",
      "RangeIndex: 3412 entries, 0 to 3411\n",
      "Data columns (total 26 columns):\n",
      "created               3412 non-null datetime64[ns]\n",
      "application_id        3412 non-null int64\n",
      "ref_type              3412 non-null int64\n",
      "ref_hash              3412 non-null int64\n",
      "click_hash            0 non-null float64\n",
      "attributed            3412 non-null bool\n",
      "implicit              3412 non-null bool\n",
      "device_countrycode    3412 non-null int64\n",
      "device_brand          1047 non-null float64\n",
      "device_model          3411 non-null float64\n",
      "session_user_agent    3364 non-null category\n",
      "user_agent            1729 non-null category\n",
      "event_uuid            865 non-null object\n",
      "kind                  865 non-null category\n",
      "wifi                  1729 non-null object\n",
      "trans_id              6 non-null category\n",
      "ip_address            3412 non-null int64\n",
      "device_language       3378 non-null float64\n",
      "mes                   3412 non-null int64\n",
      "dia                   3412 non-null int64\n",
      "hora                  3412 non-null int64\n",
      "hora_madrugada        3412 non-null int64\n",
      "hora_maniana          3412 non-null int64\n",
      "hora_almuerzo         3412 non-null int64\n",
      "hora_tarde            3412 non-null int64\n",
      "hora_noche            3412 non-null int64\n",
      "dtypes: bool(2), category(4), datetime64[ns](1), float64(4), int64(13), object(2)\n",
      "memory usage: 570.5+ KB\n"
     ]
    }
   ],
   "source": [
    "installs_Ventana1.info()"
   ]
  },
  {
   "cell_type": "code",
   "execution_count": 10,
   "metadata": {},
   "outputs": [
    {
     "name": "stdout",
     "output_type": "stream",
     "text": [
      "<class 'pandas.core.frame.DataFrame'>\n",
      "RangeIndex: 5000000 entries, 0 to 4999999\n",
      "Data columns (total 15 columns):\n",
      "auction_type_id    float64\n",
      "country            int64\n",
      "date               datetime64[ns]\n",
      "device_id          int64\n",
      "platform           int64\n",
      "ref_type_id        int64\n",
      "source_id          int64\n",
      "mes                int64\n",
      "dia                int64\n",
      "hora               int64\n",
      "hora_madrugada     int64\n",
      "hora_maniana       int64\n",
      "hora_almuerzo      int64\n",
      "hora_tarde         int64\n",
      "hora_noche         int64\n",
      "dtypes: datetime64[ns](1), float64(1), int64(13)\n",
      "memory usage: 572.2 MB\n"
     ]
    }
   ],
   "source": [
    "auctions_Ventana1.info()"
   ]
  },
  {
   "cell_type": "code",
   "execution_count": 11,
   "metadata": {},
   "outputs": [
    {
     "name": "stdout",
     "output_type": "stream",
     "text": [
      "<class 'pandas.core.frame.DataFrame'>\n",
      "RangeIndex: 5930 entries, 0 to 5929\n",
      "Data columns (total 2 columns):\n",
      "ref_hash    5930 non-null object\n",
      "obj         5930 non-null int64\n",
      "dtypes: int64(1), object(1)\n",
      "memory usage: 92.7+ KB\n"
     ]
    }
   ],
   "source": [
    "targets.info()"
   ]
  },
  {
   "cell_type": "code",
   "execution_count": null,
   "metadata": {},
   "outputs": [],
   "source": []
  }
 ],
 "metadata": {
  "kernelspec": {
   "display_name": "Python 2",
   "language": "python",
   "name": "python2"
  },
  "language_info": {
   "codemirror_mode": {
    "name": "ipython",
    "version": 2
   },
   "file_extension": ".py",
   "mimetype": "text/x-python",
   "name": "python",
   "nbconvert_exporter": "python",
   "pygments_lexer": "ipython2",
   "version": "2.7.14"
  }
 },
 "nbformat": 4,
 "nbformat_minor": 2
}
